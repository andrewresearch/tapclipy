{
 "cells": [
  {
   "cell_type": "markdown",
   "metadata": {},
   "source": [
    "# Frequently Asked Questions\n",
    "\n",
    "Here are some of the most commonly asked questions.\n"
   ]
  },
  {
   "cell_type": "markdown",
   "metadata": {},
   "source": [
    "## What is a TAP query?\n",
    "\n",
    "A tap query is basically a graphql query used to pass in the fields you wish to return.\n",
    "\n",
    "An example query would be as follows\n",
    "\n",
    "```\n",
    "query Clean($input: String,$parameters:String) { \n",
    "    clean(text:$input,parameters:$parameters) {\n",
    "        analytics\n",
    "        querytime\n",
    "        message\n",
    "        timestamp    \n",
    "    }\n",
    "}   \n",
    "```\n",
    "\n",
    "In this example we are using the clean query and are returning the following:\n",
    "- analytics\n",
    "- querytime\n",
    "- message\n",
    "- timestamp\n",
    "\n",
    "we also take in 2 parameters such as the Input Text and the parameters.\n",
    "\n",
    "The input text is the text we want to run the query on and the parameters will vary depending which query we are using.\n",
    "\n",
    "In this example the Clean query takes just one parameter \"cleanType\" and there are multiple options we can pass in.\n",
    "\n",
    "To read more about the queries and the parameters they can accept, check the [Queries Folder](https://github.com/infosci-qut/tapclipy/tree/master/NoteBooks/Queries)\n"
   ]
  },
  {
   "cell_type": "code",
   "execution_count": null,
   "metadata": {},
   "outputs": [],
   "source": []
  }
 ],
 "metadata": {
  "kernelspec": {
   "display_name": "Python 3",
   "language": "python",
   "name": "python3"
  },
  "language_info": {
   "codemirror_mode": {
    "name": "ipython",
    "version": 3
   },
   "file_extension": ".py",
   "mimetype": "text/x-python",
   "name": "python",
   "nbconvert_exporter": "python",
   "pygments_lexer": "ipython3",
   "version": "3.6.7"
  }
 },
 "nbformat": 4,
 "nbformat_minor": 2
}
