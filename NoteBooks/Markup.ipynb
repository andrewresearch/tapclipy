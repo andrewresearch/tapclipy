{
 "cells": [
  {
   "cell_type": "markdown",
   "metadata": {},
   "source": [
    "# Markup Function\n",
    "\n",
    "Tap provides a simple function you can use to generate css + html and showcase your data."
   ]
  },
  {
   "cell_type": "markdown",
   "metadata": {},
   "source": [
    "## Setup\n",
    "First you import tap, create a connection and fetch the schema like normal."
   ]
  },
  {
   "cell_type": "code",
   "execution_count": 1,
   "metadata": {},
   "outputs": [
    {
     "name": "stdout",
     "output_type": "stream",
     "text": [
      "Requirement already satisfied: tapclipy>=0.2.1 in /opt/conda/lib/python3.6/site-packages (0.2.1)\n",
      "http://tap.hi2lab.io/graphql\n"
     ]
    }
   ],
   "source": [
    "!pip install 'tapclipy>=0.2.1'\n",
    "\n",
    "# import tap client and connect functions\n",
    "from tapclipy import tap_connect\n",
    "\n",
    "# import our text visual effects\n",
    "from tapclipy import textvis\n",
    "\n",
    "# ipython is only used for the benefit of displaying the output in this notebook\n",
    "from IPython.core.display import display, HTML\n",
    "\n",
    "# Create TAP Connection\n",
    "tap = tap_connect.Connect('http://tap.hi2lab.io')\n",
    "\n",
    "# Create a reference to the Effects class.\n",
    "effects = textvis.Effects()\n",
    "\n",
    "# fetch schema\n",
    "tap.fetch_schema()\n",
    "\n",
    "print(tap.url())"
   ]
  },
  {
   "cell_type": "markdown",
   "metadata": {},
   "source": [
    "## Reflect Expression Markup\n",
    "\n",
    "Tap Client can provide markup for Reflect Expression using 3 functions\n",
    "- make_css = Takes in a dictionary of css rules and returns a formatted string.\n",
    "- make_reflect_html = This function takes in our StrResult object which is returned by the reflectExpressions query and applies a span to each of the phrase tags that the query provides. You can also pass in a custom class name which will be applied to each phrase tag.\n",
    "- markup - This function takes in css and html and provides a nice output, Placing the custom css inside a style tag.\n",
    "\n",
    "### See examples below"
   ]
  },
  {
   "cell_type": "markdown",
   "metadata": {},
   "source": [
    "### Run the query\n",
    "First we run the reflectExpressions query to get our strResult"
   ]
  },
  {
   "cell_type": "code",
   "execution_count": 2,
   "metadata": {},
   "outputs": [],
   "source": [
    "query = tap.query('reflectExpressions')\n",
    "\n",
    "string = \"\"\"\n",
    "Firstly, this week was interesting and what I really liked about it was the picture game we played on monday.  \n",
    "I was the one who had the picture and I found it hard to communicate exactly what my drawing was, \n",
    "which showed me just how important communication is if you want to be successful.  \n",
    "It was a fun activity and it showed me some good first hand experience about how to communicate.  \n",
    "Secondly, we got back our memo assignment and I did pretty decent on it but definitely need to rewrite it and work on my memo writing overall.  \n",
    "I need to work on cutting out the fat and my passive writing style, which I know is going to be hard to change \n",
    "but I feel like with a lot of practice I will be able to vastly improve in this area.  \n",
    "Lastly, we have started to gain a little progress on the team project and have come up with some ideas on how to go about researching our proposition.  \n",
    "With regards to my action plan I can’t recall working on encouraging the heart within my group, \n",
    "so that is something I have to be more aware of when we are meeting and do my best to better myself in this area.  \n",
    "I do feel like I have began to form some sort of a relationship with my group members, \n",
    "but I still need to improve these relationships in order for it to feel like I have really developed long term friendships/relationships within my group.  \n",
    "This weekend my plan is to work on rewriting my memo and writing up my resume.  \n",
    "I had a good time in class this week and I am looking forward to what next week has in store for us.\n",
    "\"\"\"\n",
    "\n",
    "strResult = tap.analyse_text(query, string)"
   ]
  },
  {
   "cell_type": "markdown",
   "metadata": {},
   "source": [
    "## Generate CSS\n",
    "We can use the make_css function to generate css by passing in a dictionary of css rules."
   ]
  },
  {
   "cell_type": "code",
   "execution_count": 3,
   "metadata": {},
   "outputs": [
    {
     "name": "stdout",
     "output_type": "stream",
     "text": [
      ".anticipate{\n",
      "  background-color: red;\n",
      "  color: white;\n",
      "}\n",
      ".compare{\n",
      "  background-color: blue;\n",
      "  color: white;\n",
      "}\n",
      ".consider{\n",
      "  background-color: green;\n",
      "  color: white;\n",
      "}\n",
      "\n"
     ]
    }
   ],
   "source": [
    "# dictionary of css rules we want to apply to our data.\n",
    "customStyle = {\n",
    "    \"anticipate\": {\n",
    "        \"background-color\": \"red\",\n",
    "        \"color\": \"white\"\n",
    "    },\n",
    "    \"compare\": {\n",
    "        \"background-color\": \"blue\",\n",
    "        \"color\": \"white\"\n",
    "    },\n",
    "    \"consider\": {\n",
    "        \"background-color\": \"green\",\n",
    "        \"color\": \"white\"\n",
    "    }\n",
    "}\n",
    "\n",
    "\n",
    "\n",
    "# pass the dictionary into the make_css function from our Effects class\n",
    "style = effects.make_css(customStyle)\n",
    "\n",
    "print(style)"
   ]
  },
  {
   "cell_type": "markdown",
   "metadata": {},
   "source": [
    "## Generate HTML\n",
    "We can use the make_reflect_html function to process the strResult we had returned from the reflectExpressions query.\n",
    "\n",
    "This function will wrap each phrase tag inside a span tag and it also takes an optional paramater custom class where we can include a custom class which will be applied to all phrase tags.\n",
    "\n",
    "For example if we want to apply the class \"badge\" to every phrase tag we can pass it in as a string.\n",
    "You can also pass in multiple classes such as \"badge title\""
   ]
  },
  {
   "cell_type": "code",
   "execution_count": 4,
   "metadata": {},
   "outputs": [
    {
     "name": "stdout",
     "output_type": "stream",
     "text": [
      "firstly , this week was interesting and what <span class='generalpronounverb badge'>i really liked about</span> it was the picture game <span class='generalpronounverb badge'>we played on</span> monday .<span class='generalpronounverb badge'>i was</span> the one who had the picture and <span class='consider badge'><span class='generalpronounverb badge'>i found</span></span> it hard to communicate exactly what <span class='selfpossessive badge'>my drawing</span> was , which showed <span class='generalpronounverb badge'>me just how</span> important communication is if <span class='generalpronounverb badge'>you want</span> to be successful .<span class='generalpronounverb badge'>it was</span> a fun activity and <span class='generalpronounverb badge'>it showed</span> me some good first hand experience <span class='pertains badge'>about how to communicate</span> .secondly , <span class='generalpronounverb badge'>we got back</span> <span class='grouppossessive badge'>our memo assignment</span> and <span class='consider badge'><span class='generalpronounverb badge'>i did pretty</span></span> decent on <span class='anticipate badge'><span class='generalpronounverb badge'>it but definitely need</span></span> to rewrite <span class='generalpronounverb badge'>it and work on</span> <span class='selfpossessive badge'>my memo</span> writing overall .<span class='anticipate badge'><span class='generalpronounverb badge'>i need</span></span> to work <span class='pertains badge'>on cutting</span> out the fat and <span class='selfpossessive badge'>my passive writing style</span> , which <span class='consider badge'><span class='generalpronounverb badge'>i know is going</span></span> to be hard to change but <span class='consider badge'><span class='generalpronounverb badge'>i feel like with</span></span> a lot <span class='pertains badge'>of practice i <span class='definite badge'>will be</span> able to</span> vastly improve in this area .lastly , <span class='anticipate badge'><span class='generalpronounverb badge'>we have started</span></span> to gain a little progress on the team project and have come up with some ideas <span class='pertains badge'>on how to go</span> about researching <span class='grouppossessive badge'>our proposition</span> .<span class='pertains badge'>with regards</span> to <span class='selfpossessive badge'>my action plan</span> i <span class='definite badge'>ca n't recall working</span> <span class='pertains badge'>on encouraging</span> the heart within <span class='selfpossessive badge'>my group</span> , so that is something <span class='generalpronounverb badge'>i have</span> to be more aware of when <span class='generalpronounverb badge'>we are meeting and do</span> <span class='selfpossessive badge'>my best</span> to better <span class='consider badge'><span class='generalpronounverb badge'>myself in</span></span> this area .<span class='consider badge'><span class='generalpronounverb badge'>i do feel like</span></span> i have began to form some sort of a relationship with <span class='selfpossessive badge'><span class='selfpossessive badge'>my group</span> members</span> , but <span class='anticipate badge'><span class='generalpronounverb badge'>i still need</span></span> to improve these relationships <span class='pertains badge'>in order</span> for it to feel like <span class='anticipate badge'><span class='generalpronounverb badge'>i have really developed</span></span> long term friendships / relationships within <span class='selfpossessive badge'>my group</span> .this weekend <span class='selfpossessive badge'>my plan</span> is to work on rewriting <span class='selfpossessive badge'>my memo</span> and writing up <span class='selfpossessive badge'>my resume</span> .<span class='generalpronounverb badge'>i had</span> a good time <span class='pertains badge'>in class</span> this week and <span class='anticipate badge'><span class='generalpronounverb badge'>i am looking forward to</span></span> what next week has in store <span class='pertains badge'>for us</span> .\n",
      "----------------------------------------\n",
      "firstly , this week was interesting and what <span class='generalpronounverb'>i really liked about</span> it was the picture game <span class='generalpronounverb'>we played on</span> monday .<span class='generalpronounverb'>i was</span> the one who had the picture and <span class='consider'><span class='generalpronounverb'>i found</span></span> it hard to communicate exactly what <span class='selfpossessive'>my drawing</span> was , which showed <span class='generalpronounverb'>me just how</span> important communication is if <span class='generalpronounverb'>you want</span> to be successful .<span class='generalpronounverb'>it was</span> a fun activity and <span class='generalpronounverb'>it showed</span> me some good first hand experience <span class='pertains'>about how to communicate</span> .secondly , <span class='generalpronounverb'>we got back</span> <span class='grouppossessive'>our memo assignment</span> and <span class='consider'><span class='generalpronounverb'>i did pretty</span></span> decent on <span class='anticipate'><span class='generalpronounverb'>it but definitely need</span></span> to rewrite <span class='generalpronounverb'>it and work on</span> <span class='selfpossessive'>my memo</span> writing overall .<span class='anticipate'><span class='generalpronounverb'>i need</span></span> to work <span class='pertains'>on cutting</span> out the fat and <span class='selfpossessive'>my passive writing style</span> , which <span class='consider'><span class='generalpronounverb'>i know is going</span></span> to be hard to change but <span class='consider'><span class='generalpronounverb'>i feel like with</span></span> a lot <span class='pertains'>of practice i <span class='definite'>will be</span> able to</span> vastly improve in this area .lastly , <span class='anticipate'><span class='generalpronounverb'>we have started</span></span> to gain a little progress on the team project and have come up with some ideas <span class='pertains'>on how to go</span> about researching <span class='grouppossessive'>our proposition</span> .<span class='pertains'>with regards</span> to <span class='selfpossessive'>my action plan</span> i <span class='definite'>ca n't recall working</span> <span class='pertains'>on encouraging</span> the heart within <span class='selfpossessive'>my group</span> , so that is something <span class='generalpronounverb'>i have</span> to be more aware of when <span class='generalpronounverb'>we are meeting and do</span> <span class='selfpossessive'>my best</span> to better <span class='consider'><span class='generalpronounverb'>myself in</span></span> this area .<span class='consider'><span class='generalpronounverb'>i do feel like</span></span> i have began to form some sort of a relationship with <span class='selfpossessive'><span class='selfpossessive'>my group</span> members</span> , but <span class='anticipate'><span class='generalpronounverb'>i still need</span></span> to improve these relationships <span class='pertains'>in order</span> for it to feel like <span class='anticipate'><span class='generalpronounverb'>i have really developed</span></span> long term friendships / relationships within <span class='selfpossessive'>my group</span> .this weekend <span class='selfpossessive'>my plan</span> is to work on rewriting <span class='selfpossessive'>my memo</span> and writing up <span class='selfpossessive'>my resume</span> .<span class='generalpronounverb'>i had</span> a good time <span class='pertains'>in class</span> this week and <span class='anticipate'><span class='generalpronounverb'>i am looking forward to</span></span> what next week has in store <span class='pertains'>for us</span> .\n"
     ]
    }
   ],
   "source": [
    "# generate html and apply the class badge to each phrase tag\n",
    "html = effects.make_reflect_html(strResult, \"badge\")\n",
    "\n",
    "# generate html without a custom class.\n",
    "html_nobadge = effects.make_reflect_html(strResult)\n",
    "\n",
    "print(html)\n",
    "print(\"-\"*40)\n",
    "print(html_nobadge)"
   ]
  },
  {
   "cell_type": "markdown",
   "metadata": {},
   "source": [
    "# Displaying HTML\n",
    "Now you can use the display function from Ipython to output html and see the result of your efforts!\n",
    "\n",
    "Here we display the markup with and without the custom classname \"badge\""
   ]
  },
  {
   "cell_type": "code",
   "execution_count": 5,
   "metadata": {},
   "outputs": [
    {
     "data": {
      "text/html": [
       "\n",
       "        <style type=\"text/css\" media=\"screen\">\n",
       "        .anticipate{\n",
       "  background-color: red;\n",
       "  color: white;\n",
       "}\n",
       ".compare{\n",
       "  background-color: blue;\n",
       "  color: white;\n",
       "}\n",
       ".consider{\n",
       "  background-color: green;\n",
       "  color: white;\n",
       "}\n",
       "\n",
       "        </style>\n",
       "        firstly , this week was interesting and what <span class='generalpronounverb badge'>i really liked about</span> it was the picture game <span class='generalpronounverb badge'>we played on</span> monday .<span class='generalpronounverb badge'>i was</span> the one who had the picture and <span class='consider badge'><span class='generalpronounverb badge'>i found</span></span> it hard to communicate exactly what <span class='selfpossessive badge'>my drawing</span> was , which showed <span class='generalpronounverb badge'>me just how</span> important communication is if <span class='generalpronounverb badge'>you want</span> to be successful .<span class='generalpronounverb badge'>it was</span> a fun activity and <span class='generalpronounverb badge'>it showed</span> me some good first hand experience <span class='pertains badge'>about how to communicate</span> .secondly , <span class='generalpronounverb badge'>we got back</span> <span class='grouppossessive badge'>our memo assignment</span> and <span class='consider badge'><span class='generalpronounverb badge'>i did pretty</span></span> decent on <span class='anticipate badge'><span class='generalpronounverb badge'>it but definitely need</span></span> to rewrite <span class='generalpronounverb badge'>it and work on</span> <span class='selfpossessive badge'>my memo</span> writing overall .<span class='anticipate badge'><span class='generalpronounverb badge'>i need</span></span> to work <span class='pertains badge'>on cutting</span> out the fat and <span class='selfpossessive badge'>my passive writing style</span> , which <span class='consider badge'><span class='generalpronounverb badge'>i know is going</span></span> to be hard to change but <span class='consider badge'><span class='generalpronounverb badge'>i feel like with</span></span> a lot <span class='pertains badge'>of practice i <span class='definite badge'>will be</span> able to</span> vastly improve in this area .lastly , <span class='anticipate badge'><span class='generalpronounverb badge'>we have started</span></span> to gain a little progress on the team project and have come up with some ideas <span class='pertains badge'>on how to go</span> about researching <span class='grouppossessive badge'>our proposition</span> .<span class='pertains badge'>with regards</span> to <span class='selfpossessive badge'>my action plan</span> i <span class='definite badge'>ca n't recall working</span> <span class='pertains badge'>on encouraging</span> the heart within <span class='selfpossessive badge'>my group</span> , so that is something <span class='generalpronounverb badge'>i have</span> to be more aware of when <span class='generalpronounverb badge'>we are meeting and do</span> <span class='selfpossessive badge'>my best</span> to better <span class='consider badge'><span class='generalpronounverb badge'>myself in</span></span> this area .<span class='consider badge'><span class='generalpronounverb badge'>i do feel like</span></span> i have began to form some sort of a relationship with <span class='selfpossessive badge'><span class='selfpossessive badge'>my group</span> members</span> , but <span class='anticipate badge'><span class='generalpronounverb badge'>i still need</span></span> to improve these relationships <span class='pertains badge'>in order</span> for it to feel like <span class='anticipate badge'><span class='generalpronounverb badge'>i have really developed</span></span> long term friendships / relationships within <span class='selfpossessive badge'>my group</span> .this weekend <span class='selfpossessive badge'>my plan</span> is to work on rewriting <span class='selfpossessive badge'>my memo</span> and writing up <span class='selfpossessive badge'>my resume</span> .<span class='generalpronounverb badge'>i had</span> a good time <span class='pertains badge'>in class</span> this week and <span class='anticipate badge'><span class='generalpronounverb badge'>i am looking forward to</span></span> what next week has in store <span class='pertains badge'>for us</span> ."
      ],
      "text/plain": [
       "<IPython.core.display.HTML object>"
      ]
     },
     "metadata": {},
     "output_type": "display_data"
    },
    {
     "name": "stdout",
     "output_type": "stream",
     "text": [
      "----------------------------------------\n"
     ]
    },
    {
     "data": {
      "text/html": [
       "\n",
       "        <style type=\"text/css\" media=\"screen\">\n",
       "        .anticipate{\n",
       "  background-color: red;\n",
       "  color: white;\n",
       "}\n",
       ".compare{\n",
       "  background-color: blue;\n",
       "  color: white;\n",
       "}\n",
       ".consider{\n",
       "  background-color: green;\n",
       "  color: white;\n",
       "}\n",
       "\n",
       "        </style>\n",
       "        firstly , this week was interesting and what <span class='generalpronounverb'>i really liked about</span> it was the picture game <span class='generalpronounverb'>we played on</span> monday .<span class='generalpronounverb'>i was</span> the one who had the picture and <span class='consider'><span class='generalpronounverb'>i found</span></span> it hard to communicate exactly what <span class='selfpossessive'>my drawing</span> was , which showed <span class='generalpronounverb'>me just how</span> important communication is if <span class='generalpronounverb'>you want</span> to be successful .<span class='generalpronounverb'>it was</span> a fun activity and <span class='generalpronounverb'>it showed</span> me some good first hand experience <span class='pertains'>about how to communicate</span> .secondly , <span class='generalpronounverb'>we got back</span> <span class='grouppossessive'>our memo assignment</span> and <span class='consider'><span class='generalpronounverb'>i did pretty</span></span> decent on <span class='anticipate'><span class='generalpronounverb'>it but definitely need</span></span> to rewrite <span class='generalpronounverb'>it and work on</span> <span class='selfpossessive'>my memo</span> writing overall .<span class='anticipate'><span class='generalpronounverb'>i need</span></span> to work <span class='pertains'>on cutting</span> out the fat and <span class='selfpossessive'>my passive writing style</span> , which <span class='consider'><span class='generalpronounverb'>i know is going</span></span> to be hard to change but <span class='consider'><span class='generalpronounverb'>i feel like with</span></span> a lot <span class='pertains'>of practice i <span class='definite'>will be</span> able to</span> vastly improve in this area .lastly , <span class='anticipate'><span class='generalpronounverb'>we have started</span></span> to gain a little progress on the team project and have come up with some ideas <span class='pertains'>on how to go</span> about researching <span class='grouppossessive'>our proposition</span> .<span class='pertains'>with regards</span> to <span class='selfpossessive'>my action plan</span> i <span class='definite'>ca n't recall working</span> <span class='pertains'>on encouraging</span> the heart within <span class='selfpossessive'>my group</span> , so that is something <span class='generalpronounverb'>i have</span> to be more aware of when <span class='generalpronounverb'>we are meeting and do</span> <span class='selfpossessive'>my best</span> to better <span class='consider'><span class='generalpronounverb'>myself in</span></span> this area .<span class='consider'><span class='generalpronounverb'>i do feel like</span></span> i have began to form some sort of a relationship with <span class='selfpossessive'><span class='selfpossessive'>my group</span> members</span> , but <span class='anticipate'><span class='generalpronounverb'>i still need</span></span> to improve these relationships <span class='pertains'>in order</span> for it to feel like <span class='anticipate'><span class='generalpronounverb'>i have really developed</span></span> long term friendships / relationships within <span class='selfpossessive'>my group</span> .this weekend <span class='selfpossessive'>my plan</span> is to work on rewriting <span class='selfpossessive'>my memo</span> and writing up <span class='selfpossessive'>my resume</span> .<span class='generalpronounverb'>i had</span> a good time <span class='pertains'>in class</span> this week and <span class='anticipate'><span class='generalpronounverb'>i am looking forward to</span></span> what next week has in store <span class='pertains'>for us</span> ."
      ],
      "text/plain": [
       "<IPython.core.display.HTML object>"
      ]
     },
     "metadata": {},
     "output_type": "display_data"
    }
   ],
   "source": [
    "output = effects.markup(html, style)\n",
    "display(HTML(output))\n",
    "print(\"-\"*40)\n",
    "output = effects.markup(html_nobadge, style)\n",
    "display(HTML(output))"
   ]
  },
  {
   "cell_type": "markdown",
   "metadata": {},
   "source": [
    "## Generate a HTML Table\n",
    "You can also generate a nice table to display the results as well as the mark up.\n",
    "You also have the option to pass in a custom class name."
   ]
  },
  {
   "cell_type": "code",
   "execution_count": 6,
   "metadata": {},
   "outputs": [],
   "source": [
    "table_html = effects.make_reflect_table_html(strResult)\n",
    "table_html_badge = effects.make_reflect_table_html(strResult, \"badge\")\n",
    "table_css = effects.get_table_css()"
   ]
  },
  {
   "cell_type": "markdown",
   "metadata": {},
   "source": [
    "## Put it all together.\n",
    "Now that we have our css and our html, we can pass it into the markup function and get our final output."
   ]
  },
  {
   "cell_type": "code",
   "execution_count": 7,
   "metadata": {},
   "outputs": [
    {
     "data": {
      "text/html": [
       "\n",
       "        <style type=\"text/css\" media=\"screen\">\n",
       "        .anticipate{\n",
       "  background-color: red;\n",
       "  color: white;\n",
       "}\n",
       ".compare{\n",
       "  background-color: blue;\n",
       "  color: white;\n",
       "}\n",
       ".consider{\n",
       "  background-color: green;\n",
       "  color: white;\n",
       "}\n",
       "\n",
       "            .rendered_html th, .rendered_html td {\n",
       "                text-align: left;        \n",
       "            }\n",
       "            .rendered_html table, .rendered_html th, .rendered_html td {\n",
       "                border: 1px solid black;\n",
       "                border-collapse: collapse;            \n",
       "            }\n",
       "            .rendered_html table {\n",
       "                table-layout: auto;\n",
       "            }\n",
       "            .rendered_html .column1 {\n",
       "                float: left;\n",
       "                width: 60%;\n",
       "                margin-right: 10px;\n",
       "            }\n",
       "            .rendered_html .column2 {\n",
       "                float: left;\n",
       "                width: 35%;\n",
       "            }\n",
       "            .rendered_html .row:after {\n",
       "                content:\"\";\n",
       "                display: table;\n",
       "                clear: both;\n",
       "            }\n",
       "        \n",
       "        </style>\n",
       "                        \n",
       "                <div class=\"row\">\n",
       "                    <div class=\"column1\">\n",
       "                        <table style=\"width:100%\">\n",
       "                            <tr>\n",
       "                                <th>No</th>\n",
       "                                <th>Sentence</th>\n",
       "                                <th>Meta Tags</th>\n",
       "                            </tr>\n",
       "                            <tr><td>1</td><td>firstly , this week was interesting and what <span class='generalpronounverb'>i really liked about</span> it was the picture game <span class='generalpronounverb'>we played on</span> monday .</td><td>nil</td></tr><tr><td>2</td><td><span class='generalpronounverb'>i was</span> the one who had the picture and <span class='consider'><span class='generalpronounverb'>i found</span></span> it hard to communicate exactly what <span class='selfpossessive'>my drawing</span> was , which showed <span class='generalpronounverb'>me just how</span> important communication is if <span class='generalpronounverb'>you want</span> to be successful .</td><td>nil</td></tr><tr><td>3</td><td><span class='generalpronounverb'>it was</span> a fun activity and <span class='generalpronounverb'>it showed</span> me some good first hand experience <span class='pertains'>about how to communicate</span> .</td><td>nil</td></tr><tr><td>4</td><td>secondly , <span class='generalpronounverb'>we got back</span> <span class='grouppossessive'>our memo assignment</span> and <span class='consider'><span class='generalpronounverb'>i did pretty</span></span> decent on <span class='anticipate'><span class='generalpronounverb'>it but definitely need</span></span> to rewrite <span class='generalpronounverb'>it and work on</span> <span class='selfpossessive'>my memo</span> writing overall .</td><td>nil</td></tr><tr><td>5</td><td><span class='anticipate'><span class='generalpronounverb'>i need</span></span> to work <span class='pertains'>on cutting</span> out the fat and <span class='selfpossessive'>my passive writing style</span> , which <span class='consider'><span class='generalpronounverb'>i know is going</span></span> to be hard to change but <span class='consider'><span class='generalpronounverb'>i feel like with</span></span> a lot <span class='pertains'>of practice i <span class='definite'>will be</span> able to</span> vastly improve in this area .</td><td>nil</td></tr><tr><td>6</td><td>lastly , <span class='anticipate'><span class='generalpronounverb'>we have started</span></span> to gain a little progress on the team project and have come up with some ideas <span class='pertains'>on how to go</span> about researching <span class='grouppossessive'>our proposition</span> .</td><td>nil</td></tr><tr><td>7</td><td><span class='pertains'>with regards</span> to <span class='selfpossessive'>my action plan</span> i <span class='definite'>ca n't recall working</span> <span class='pertains'>on encouraging</span> the heart within <span class='selfpossessive'>my group</span> , so that is something <span class='generalpronounverb'>i have</span> to be more aware of when <span class='generalpronounverb'>we are meeting and do</span> <span class='selfpossessive'>my best</span> to better <span class='consider'><span class='generalpronounverb'>myself in</span></span> this area .</td><td>nil</td></tr><tr><td>8</td><td><span class='consider'><span class='generalpronounverb'>i do feel like</span></span> i have began to form some sort of a relationship with <span class='selfpossessive'><span class='selfpossessive'>my group</span> members</span> , but <span class='anticipate'><span class='generalpronounverb'>i still need</span></span> to improve these relationships <span class='pertains'>in order</span> for it to feel like <span class='anticipate'><span class='generalpronounverb'>i have really developed</span></span> long term friendships / relationships within <span class='selfpossessive'>my group</span> .</td><td>nil</td></tr><tr><td>9</td><td>this weekend <span class='selfpossessive'>my plan</span> is to work on rewriting <span class='selfpossessive'>my memo</span> and writing up <span class='selfpossessive'>my resume</span> .</td><td>nil</td></tr><tr><td>10</td><td><span class='generalpronounverb'>i had</span> a good time <span class='pertains'>in class</span> this week and <span class='anticipate'><span class='generalpronounverb'>i am looking forward to</span></span> what next week has in store <span class='pertains'>for us</span> .</td><td>nil</td></tr>\n",
       "                        </table>            \n",
       "                    </div>\n",
       "                    <div class=\"column2\">\n",
       "                        <table style=\"width:100%\">\n",
       "                            <tr>\n",
       "                                <th>Summary</th>\n",
       "                                <th></th>                \n",
       "                            </tr>\n",
       "                            <tr>\n",
       "                                <td>Word Count</td>\n",
       "                                <td>296 words</td>                \n",
       "                            </tr>\n",
       "                            <tr>\n",
       "                                <td>Avg Word Length</td>\n",
       "                                <td>4.04 characters</td>                \n",
       "                            </tr>\n",
       "                            <tr>\n",
       "                                <td>Sentence Count</td>\n",
       "                                <td>10 sentences</td>                \n",
       "                            </tr>\n",
       "                            <tr>\n",
       "                                <td>Avg Sentence Length</td>\n",
       "                                <td>29.6 words</td>                \n",
       "                            </tr>\n",
       "                        </table>\n",
       "                    </div>\n",
       "                </div>   \n",
       "                "
      ],
      "text/plain": [
       "<IPython.core.display.HTML object>"
      ]
     },
     "metadata": {},
     "output_type": "display_data"
    }
   ],
   "source": [
    "output = effects.markup(table_html, style + table_css)\n",
    "display(HTML(output))"
   ]
  },
  {
   "cell_type": "code",
   "execution_count": 8,
   "metadata": {},
   "outputs": [
    {
     "data": {
      "text/html": [
       "\n",
       "        <style type=\"text/css\" media=\"screen\">\n",
       "        .anticipate{\n",
       "  background-color: red;\n",
       "  color: white;\n",
       "}\n",
       ".compare{\n",
       "  background-color: blue;\n",
       "  color: white;\n",
       "}\n",
       ".consider{\n",
       "  background-color: green;\n",
       "  color: white;\n",
       "}\n",
       "\n",
       "            .rendered_html th, .rendered_html td {\n",
       "                text-align: left;        \n",
       "            }\n",
       "            .rendered_html table, .rendered_html th, .rendered_html td {\n",
       "                border: 1px solid black;\n",
       "                border-collapse: collapse;            \n",
       "            }\n",
       "            .rendered_html table {\n",
       "                table-layout: auto;\n",
       "            }\n",
       "            .rendered_html .column1 {\n",
       "                float: left;\n",
       "                width: 60%;\n",
       "                margin-right: 10px;\n",
       "            }\n",
       "            .rendered_html .column2 {\n",
       "                float: left;\n",
       "                width: 35%;\n",
       "            }\n",
       "            .rendered_html .row:after {\n",
       "                content:\"\";\n",
       "                display: table;\n",
       "                clear: both;\n",
       "            }\n",
       "        \n",
       "        </style>\n",
       "                        \n",
       "                <div class=\"row\">\n",
       "                    <div class=\"column1\">\n",
       "                        <table style=\"width:100%\">\n",
       "                            <tr>\n",
       "                                <th>No</th>\n",
       "                                <th>Sentence</th>\n",
       "                                <th>Meta Tags</th>\n",
       "                            </tr>\n",
       "                            <tr><td>1</td><td>firstly , this week was interesting and what <span class='generalpronounverb badge'>i really liked about</span> it was the picture game <span class='generalpronounverb badge'>we played on</span> monday .</td><td>nil</td></tr><tr><td>2</td><td><span class='generalpronounverb badge'>i was</span> the one who had the picture and <span class='consider badge'><span class='generalpronounverb badge'>i found</span></span> it hard to communicate exactly what <span class='selfpossessive badge'>my drawing</span> was , which showed <span class='generalpronounverb badge'>me just how</span> important communication is if <span class='generalpronounverb badge'>you want</span> to be successful .</td><td>nil</td></tr><tr><td>3</td><td><span class='generalpronounverb badge'>it was</span> a fun activity and <span class='generalpronounverb badge'>it showed</span> me some good first hand experience <span class='pertains badge'>about how to communicate</span> .</td><td>nil</td></tr><tr><td>4</td><td>secondly , <span class='generalpronounverb badge'>we got back</span> <span class='grouppossessive badge'>our memo assignment</span> and <span class='consider badge'><span class='generalpronounverb badge'>i did pretty</span></span> decent on <span class='anticipate badge'><span class='generalpronounverb badge'>it but definitely need</span></span> to rewrite <span class='generalpronounverb badge'>it and work on</span> <span class='selfpossessive badge'>my memo</span> writing overall .</td><td>nil</td></tr><tr><td>5</td><td><span class='anticipate badge'><span class='generalpronounverb badge'>i need</span></span> to work <span class='pertains badge'>on cutting</span> out the fat and <span class='selfpossessive badge'>my passive writing style</span> , which <span class='consider badge'><span class='generalpronounverb badge'>i know is going</span></span> to be hard to change but <span class='consider badge'><span class='generalpronounverb badge'>i feel like with</span></span> a lot <span class='pertains badge'>of practice i <span class='definite badge'>will be</span> able to</span> vastly improve in this area .</td><td>nil</td></tr><tr><td>6</td><td>lastly , <span class='anticipate badge'><span class='generalpronounverb badge'>we have started</span></span> to gain a little progress on the team project and have come up with some ideas <span class='pertains badge'>on how to go</span> about researching <span class='grouppossessive badge'>our proposition</span> .</td><td>nil</td></tr><tr><td>7</td><td><span class='pertains badge'>with regards</span> to <span class='selfpossessive badge'>my action plan</span> i <span class='definite badge'>ca n't recall working</span> <span class='pertains badge'>on encouraging</span> the heart within <span class='selfpossessive badge'>my group</span> , so that is something <span class='generalpronounverb badge'>i have</span> to be more aware of when <span class='generalpronounverb badge'>we are meeting and do</span> <span class='selfpossessive badge'>my best</span> to better <span class='consider badge'><span class='generalpronounverb badge'>myself in</span></span> this area .</td><td>nil</td></tr><tr><td>8</td><td><span class='consider badge'><span class='generalpronounverb badge'>i do feel like</span></span> i have began to form some sort of a relationship with <span class='selfpossessive badge'><span class='selfpossessive badge'>my group</span> members</span> , but <span class='anticipate badge'><span class='generalpronounverb badge'>i still need</span></span> to improve these relationships <span class='pertains badge'>in order</span> for it to feel like <span class='anticipate badge'><span class='generalpronounverb badge'>i have really developed</span></span> long term friendships / relationships within <span class='selfpossessive badge'>my group</span> .</td><td>nil</td></tr><tr><td>9</td><td>this weekend <span class='selfpossessive badge'>my plan</span> is to work on rewriting <span class='selfpossessive badge'>my memo</span> and writing up <span class='selfpossessive badge'>my resume</span> .</td><td>nil</td></tr><tr><td>10</td><td><span class='generalpronounverb badge'>i had</span> a good time <span class='pertains badge'>in class</span> this week and <span class='anticipate badge'><span class='generalpronounverb badge'>i am looking forward to</span></span> what next week has in store <span class='pertains badge'>for us</span> .</td><td>nil</td></tr>\n",
       "                        </table>            \n",
       "                    </div>\n",
       "                    <div class=\"column2\">\n",
       "                        <table style=\"width:100%\">\n",
       "                            <tr>\n",
       "                                <th>Summary</th>\n",
       "                                <th></th>                \n",
       "                            </tr>\n",
       "                            <tr>\n",
       "                                <td>Word Count</td>\n",
       "                                <td>296 words</td>                \n",
       "                            </tr>\n",
       "                            <tr>\n",
       "                                <td>Avg Word Length</td>\n",
       "                                <td>4.04 characters</td>                \n",
       "                            </tr>\n",
       "                            <tr>\n",
       "                                <td>Sentence Count</td>\n",
       "                                <td>10 sentences</td>                \n",
       "                            </tr>\n",
       "                            <tr>\n",
       "                                <td>Avg Sentence Length</td>\n",
       "                                <td>29.6 words</td>                \n",
       "                            </tr>\n",
       "                        </table>\n",
       "                    </div>\n",
       "                </div>   \n",
       "                "
      ],
      "text/plain": [
       "<IPython.core.display.HTML object>"
      ]
     },
     "metadata": {},
     "output_type": "display_data"
    }
   ],
   "source": [
    "output = effects.markup(table_html_badge, style + table_css)\n",
    "display(HTML(output))"
   ]
  },
  {
   "cell_type": "markdown",
   "metadata": {},
   "source": [
    "## Affect Expressions Markup\n",
    "Tap client can provide markup for Affect Expressions using the make_affect_html function.\n",
    "\n",
    "make_affect_html takes 3 parameters\n",
    "- input_text = this is the original text that you ran the affectExpressions query on\n",
    "- affect_data = This is the strResult that you received back from the affectExpressions query.\n",
    "- custom_class = This is where you are able to include a custom class to apply to each word that is returned by the query.\n",
    "\n",
    "This function will display the words returned by the affectExpressions query and adjust their css based on the results.\n",
    "\n",
    "- Valence = Valence will adjust the word color, The higher the valence the redder the word will become, The less valence the more blue the word will be.\n",
    "- Arousal = The higher the arousal in the word the thicker the word will become.\n",
    "- Dominance = the higher the dominance value is the larger the word will appear.\n",
    "\n",
    "\n",
    "### Example Below\n",
    "First we run the affectExpressions query and get the strResult returned\n"
   ]
  },
  {
   "cell_type": "code",
   "execution_count": 9,
   "metadata": {},
   "outputs": [],
   "source": [
    "query = tap.query('affectExpressions')\n",
    "\n",
    "string = \"\"\"\n",
    "Firstly, this week was interesting and what I really liked about it was the picture game we played on monday.  \n",
    "I was the one who had the picture and I found it hard to communicate exactly what my drawing was, \n",
    "which showed me just how important communication is if you want to be successful.  \n",
    "It was a fun activity and it showed me some good first hand experience about how to communicate.  \n",
    "Secondly, we got back our memo assignment and I did pretty decent on it but definitely need to rewrite it and work on my memo writing overall.  \n",
    "I need to work on cutting out the fat and my passive writing style, which I know is going to be hard to change \n",
    "but I feel like with a lot of practice I will be able to vastly improve in this area.  \n",
    "Lastly, we have started to gain a little progress on the team project and have come up with some ideas on how to go about researching our proposition.  \n",
    "With regards to my action plan I can’t recall working on encouraging the heart within my group, \n",
    "so that is something I have to be more aware of when we are meeting and do my best to better myself in this area.  \n",
    "I do feel like I have began to form some sort of a relationship with my group members, \n",
    "but I still need to improve these relationships in order for it to feel like I have really developed long term friendships/relationships within my group.  \n",
    "This weekend my plan is to work on rewriting my memo and writing up my resume.  \n",
    "I had a good time in class this week and I am looking forward to what next week has in store for us.\n",
    "\"\"\"\n",
    "\n",
    "strResult = tap.analyse_text(query, string)"
   ]
  },
  {
   "cell_type": "markdown",
   "metadata": {},
   "source": [
    "Now that we have our strResult we can pass that into the make_affect_html function. here we pass the \"badge\" custom class, but feel free to change it or remove it entirely. \n",
    "\n",
    "By using the above make_css function you can also apply styling to your custom class."
   ]
  },
  {
   "cell_type": "code",
   "execution_count": 10,
   "metadata": {},
   "outputs": [
    {
     "data": {
      "text/html": [
       "\n",
       "Firstly, this week was interesting and what I really liked about it was the picture <span class=badge style='color:rgb(173.145,0,81.85499999999999); font-size:11.68px; font-weight:454.5;'> game </span> we played on monday.  \n",
       "I was the one who had the picture and I found it hard to communicate exactly what my drawing was, \n",
       "which showed me just how important communication is if you <span class=badge style='color:rgb(153.0,0,102.0); font-size:10.779999999999998px; font-weight:476.1;'> want </span> to be <span class=badge style='color:rgb(197.88,0,57.12); font-size:15.42px; font-weight:457.2;'> successful </span>.  \n",
       "It was a <span class=badge style='color:rgb(213.435,0,41.56500000000001); font-size:14.079999999999998px; font-weight:568.8;'> fun </span> activity and it showed me some good first hand experience about how to communicate.  \n",
       "Secondly, we got back our memo assignment and I did <span class=badge style='color:rgb(196.35,0,58.65); font-size:13.4px; font-weight:495.00000000000006;'> pretty </span> decent on it but definitely need to rewrite it and work on my memo writing overall.  \n",
       "I need to work on <span class=badge style='color:rgb(99.45,0,155.54999999999998); font-size:9.1px; font-weight:456.3;'> cutting </span> out the fat and my passive writing style, which I know is going to be hard to change \n",
       "but I feel like with a lot of practice I will be able to vastly improve in this area.  \n",
       "Lastly, we have started to gain a little progress on the team project and have come up with some ideas on how to go about researching our proposition.  \n",
       "With regards to my <span class=badge style='color:rgb(153.0,0,102.0); font-size:12.34px; font-weight:557.1;'> action </span> plan I can’t recall working on encouraging the <span class=badge style='color:rgb(177.22500000000002,0,77.77499999999998); font-size:10.86px; font-weight:456.3;'> heart </span> within my group, \n",
       "so that is something I have to be more aware of when we are meeting and do my best to better myself in this area.  \n",
       "I do feel like I have began to form some sort of a <span class=badge style='color:rgb(199.66500000000002,0,55.334999999999994); font-size:11.66px; font-weight:450.0;'> relationship </span> with my group members, \n",
       "but I still need to improve these <span class=badge style='color:rgb(199.66500000000002,0,55.334999999999994); font-size:11.66px; font-weight:450.0;'> relationship </span>s in order for it to feel like I have really developed long term <span class=badge style='color:rgb(197.88,0,57.12); font-size:13.900000000000002px; font-weight:468.0;'> friendships </span>/<span class=badge style='color:rgb(199.66500000000002,0,55.334999999999994); font-size:11.66px; font-weight:450.0;'> relationship </span>s within my group.  \n",
       "This <span class=badge style='color:rgb(182.83499999999998,0,72.165); font-size:14.220000000000002px; font-weight:522.9;'> weekend </span> my plan is to work on rewriting my memo and writing up my resume.  \n",
       "I had a good time in class this week and I am looking forward to what next week has in store for us.\n"
      ],
      "text/plain": [
       "<IPython.core.display.HTML object>"
      ]
     },
     "metadata": {},
     "output_type": "display_data"
    }
   ],
   "source": [
    "affect_html = effects.make_affect_html(string, strResult, \"badge\")\n",
    "display(HTML(affect_html))"
   ]
  },
  {
   "cell_type": "markdown",
   "metadata": {},
   "source": [
    "## Vocabulary Markup\n",
    "Tap client can provide markup for Vocabulary using the make_vocab_graph function.\n",
    "\n",
    "This function takes in the strResult returned from vocabulary and returns a dictionary with 2 arrays. values and labels.\n",
    "\n",
    "Combined with matplotlib you can easily create a graph."
   ]
  },
  {
   "cell_type": "code",
   "execution_count": 12,
   "metadata": {},
   "outputs": [
    {
     "data": {
      "image/png": "[encoded data removed]",
      "text/plain": [
       "<Figure size 432x288 with 1 Axes>"
      ]
     },
     "metadata": {
      "needs_background": "light"
     },
     "output_type": "display_data"
    }
   ],
   "source": [
    "# first we import matplitlib and numpy\n",
    "import matplotlib.pyplot as plt\n",
    "import numpy as np\n",
    "\n",
    "# run our vocab query\n",
    "query = tap.query('vocabulary')\n",
    "\n",
    "# We need text to query\n",
    "string = \"\"\"\n",
    "Firstly, this week was interesting and what I really liked about it was the picture game we played on monday.  \n",
    "I was the one who had the picture and I found it hard to communicate exactly what my drawing was, \n",
    "which showed me just how important communication is if you want to be successful.\n",
    "\"\"\"\n",
    "\n",
    "strResult = tap.analyse_text(query, string)\n",
    "\n",
    "graph_data = effects.make_vocab_graph(strResult)\n",
    "\n",
    "labels = graph_data['labels']\n",
    "values = graph_data['values']\n",
    "        \n",
    "# create our index from our list of labels\n",
    "index = np.arange(len(labels))\n",
    "plt.bar(index, values)\n",
    "plt.xlabel('Unique Words', fontsize=5)\n",
    "plt.ylabel('Occurences', fontsize=5)\n",
    "plt.xticks(index, labels, fontsize=5, rotation=30)\n",
    "plt.title('Occurences of unique words')\n",
    "plt.show()"
   ]
  },
  {
   "cell_type": "code",
   "execution_count": null,
   "metadata": {},
   "outputs": [],
   "source": []
  }
 ],
 "metadata": {
  "kernelspec": {
   "display_name": "Python 3",
   "language": "python",
   "name": "python3"
  },
  "language_info": {
   "codemirror_mode": {
    "name": "ipython",
    "version": 3
   },
   "file_extension": ".py",
   "mimetype": "text/x-python",
   "name": "python",
   "nbconvert_exporter": "python",
   "pygments_lexer": "ipython3",
   "version": "3.6.7"
  }
 },
 "nbformat": 4,
 "nbformat_minor": 2
}
