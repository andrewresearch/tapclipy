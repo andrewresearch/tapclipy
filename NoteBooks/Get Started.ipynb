{
 "cells": [
  {
   "cell_type": "markdown",
   "metadata": {},
   "source": [
    "### Tap Client Instructions\n",
    "The first thing you want to do to get started using the TAP Python Client is to ensure you have a version of TAP running that you can connect to.\n"
   ]
  },
  {
   "cell_type": "markdown",
   "metadata": {},
   "source": [
    "### Running TAP\n",
    "The easiest way to do this is by following one of the Quick Start examples [here](https://heta-io.github.io/tap/overview/quick_start.html#get-started-with-docker) "
   ]
  },
  {
   "cell_type": "markdown",
   "metadata": {},
   "source": [
    "#### Get Started with the TAP Client\n",
    "Once you have TAP running be sure to note the IP it is running on."
   ]
  },
  {
   "cell_type": "markdown",
   "metadata": {},
   "source": [
    "### Import Tap\n",
    "First we want to import tap using pip"
   ]
  },
  {
   "cell_type": "code",
   "execution_count": 1,
   "metadata": {},
   "outputs": [
    {
     "name": "stdout",
     "output_type": "stream",
     "text": [
      "Requirement already satisfied: tapclipy>=0.1.8 in /opt/conda/lib/python3.6/site-packages (0.1.8)\r\n"
     ]
    }
   ],
   "source": [
    "!pip install 'tapclipy>=0.1.8'"
   ]
  },
  {
   "cell_type": "markdown",
   "metadata": {},
   "source": [
    "### Connect To Tap\n",
    "Let's import TAP and get a reference to it.\n",
    "\n",
    "You will need to enter the url of your TAP instance and include the port number.\n",
    "\n",
    "You can print the tap graphql url to double check you are connected correctly."
   ]
  },
  {
   "cell_type": "code",
   "execution_count": 2,
   "metadata": {},
   "outputs": [
    {
     "name": "stdout",
     "output_type": "stream",
     "text": [
      "http://tap.hi2lab.io/graphql\n"
     ]
    }
   ],
   "source": [
    "from tapclipy import tap_connect\n",
    "\n",
    "# Create TAP Connection\n",
    "tap = tap_connect.Connect('http://tap.hi2lab.io')\n",
    "print(tap.url())"
   ]
  },
  {
   "cell_type": "markdown",
   "metadata": {},
   "source": [
    "### Grab the schema\n",
    "Now we can grab the TAP schema and print it out."
   ]
  },
  {
   "cell_type": "code",
   "execution_count": 3,
   "metadata": {},
   "outputs": [
    {
     "name": "stdout",
     "output_type": "stream",
     "text": [
      "----------------------------------------------\n",
      "clean >> StringResult\n",
      "annotations >> SentencesResult\n",
      "vocabulary >> VocabResult\n",
      "metrics >> MetricsResult\n",
      "posStats >> PosStatsResult\n",
      "syllables >> SyllablesResult\n",
      "spelling >> SpellingResult\n",
      "expressions >> ExpressionsResult\n",
      "reflectExpressions >> ReflectExpressionsResult\n",
      "affectExpressions >> AffectExpressionsResult\n",
      "moves >> StringListResult\n",
      "batch >> BatchResult\n",
      "----------------------------------------------\n"
     ]
    }
   ],
   "source": [
    "tap.fetch_schema()\n",
    "print(\"----------------------------------------------\") \n",
    "for query,type in tap.schema_query_name_types().items():\n",
    "    print(\"{} >> {}\".format(query, type))\n",
    "print(\"----------------------------------------------\") "
   ]
  },
  {
   "cell_type": "markdown",
   "metadata": {},
   "source": [
    "These are the different queries that are availible as of now. and the resulting return type."
   ]
  },
  {
   "cell_type": "markdown",
   "metadata": {},
   "source": [
    "### Run your first query\n",
    "\n",
    "Let's run our first query.\n",
    "\n",
    "For this demo we will use 'metrics.\n",
    "\n",
    "To see what the query looks like, you can call print on it."
   ]
  },
  {
   "cell_type": "code",
   "execution_count": 4,
   "metadata": {},
   "outputs": [
    {
     "name": "stdout",
     "output_type": "stream",
     "text": [
      "----------------------------------------\n",
      "Query:\n",
      " \n",
      "query Metrics($input: String,$parameters:String) { \n",
      "    metrics(text:$input,parameters:$parameters) {\n",
      "        analytics {\n",
      "            words\n",
      "            sentences\n",
      "            sentWordCounts\n",
      "            averageSentWordCount \n",
      "        }\n",
      "        querytime\n",
      "        message\n",
      "        timestamp    \n",
      "    }\n",
      "}    \n",
      "\n",
      "----------------------------------------\n"
     ]
    }
   ],
   "source": [
    "query = tap.query('metrics')\n",
    "print(\"-\" * 40)\n",
    "print(\"Query:\\n\", query)\n",
    "print(\"-\" * 40)"
   ]
  },
  {
   "cell_type": "markdown",
   "metadata": {},
   "source": [
    "Now that we have our query, We need some text to analyse.\n",
    "\n",
    "Let's just use a string for now, Then we can use the analyse_text function provided by the tap client and pass in our query.\n",
    "\n",
    "This will return json, So we can import our json module to make the output a bit cleaner to read.\n",
    "\n",
    "Take look at the result and compare it to the query above, You can see how the  schema matches up."
   ]
  },
  {
   "cell_type": "code",
   "execution_count": 5,
   "metadata": {},
   "outputs": [
    {
     "name": "stdout",
     "output_type": "stream",
     "text": [
      "----------------------------------------\n",
      "Result:\n",
      " {\n",
      "  \"data\": {\n",
      "    \"metrics\": {\n",
      "      \"analytics\": {\n",
      "        \"words\": 21,\n",
      "        \"sentences\": 3,\n",
      "        \"sentWordCounts\": [\n",
      "          8,\n",
      "          9,\n",
      "          4\n",
      "        ],\n",
      "        \"averageSentWordCount\": 7\n",
      "      },\n",
      "      \"querytime\": 22,\n",
      "      \"message\": \"\",\n",
      "      \"timestamp\": \"2019-01-02T01:56:44.559394Z\"\n",
      "    }\n",
      "  }\n",
      "}\n",
      "----------------------------------------\n"
     ]
    }
   ],
   "source": [
    "import json\n",
    "string = \"This is a very small test of TAP. It should produce some metrics on these two sentences! I can't wait\"\n",
    "strResult = tap.analyse_text(query, string)\n",
    "print(\"-\" * 40)\n",
    "print(\"Result:\\n\", json.dumps(strResult, indent=2))\n",
    "print(\"-\" * 40)"
   ]
  },
  {
   "cell_type": "markdown",
   "metadata": {},
   "source": [
    "### Querying with a txt file\n",
    "The above example demonstrates how to query using a string, Let's say you have a txt file you wish to analyse with TAP.\n",
    "\n",
    "Let's take a look at how that would work.\n",
    "\n",
    "First let's load a txt file. For this example we are just using a txt file filled with lorem ipsum dummy text."
   ]
  },
  {
   "cell_type": "code",
   "execution_count": 6,
   "metadata": {},
   "outputs": [
    {
     "name": "stdout",
     "output_type": "stream",
     "text": [
      "What is Lorem Ipsum?Lorem Ipsum is simply dummy text of the printing and typesetting industry. Lorem Ipsum has been the industry's standard dummy text ever since the 1500s, when an unknown printer took a galley of type and scrambled it to make a type specimen book. It has survived not only five centuries, but also the leap into electronic typesetting, remaining essentially unchanged. It was popularised in the 1960s with the release of Letraset sheets containing Lorem Ipsum passages, and more recently with desktop publishing software like Aldus PageMaker including versions of Lorem Ipsum.Why do we use it?It is a long established fact that a reader will be distracted by the readable content of a page when looking at its layout. The point of using Lorem Ipsum is that it has a more-or-less normal distribution of letters, as opposed to using 'Content here, content here', making it look like readable English. Many desktop publishing packages and web page editors now use Lorem Ipsum as their default model text, and a search for 'lorem ipsum' will uncover many web sites still in their infancy. Various versions have evolved over the years, sometimes by accident, sometimes on purpose (injected humour and the like).Where does it come from?Contrary to popular belief, Lorem Ipsum is not simply random text. It has roots in a piece of classical Latin literature from 45 BC, making it over 2000 years old. Richard McClintock, a Latin professor at Hampden-Sydney College in Virginia, looked up one of the more obscure Latin words, consectetur, from a Lorem Ipsum passage, and going through the cites of the word in classical literature, discovered the undoubtable source. Lorem Ipsum comes from sections 1.10.32 and 1.10.33 of \"de Finibus Bonorum et Malorum\" (The Extremes of Good and Evil) by Cicero, written in 45 BC. This book is a treatise on the theory of ethics, very popular during the Renaissance. The first line of Lorem Ipsum, \"Lorem ipsum dolor sit amet..\", comes from a line in section 1.10.32.The standard chunk of Lorem Ipsum used since the 1500s is reproduced below for those interested. Sections 1.10.32 and 1.10.33 from \"de Finibus Bonorum et Malorum\" by Cicero are also reproduced in their exact original form, accompanied by English versions from the 1914 translation by H. Rackham.Where can I get some?There are many variations of passages of Lorem Ipsum available, but the majority have suffered alteration in some form, by injected humour, or randomised words which don't look even slightly believable. If you are going to use a passage of Lorem Ipsum, you need to be sure there isn't anything embarrassing hidden in the middle of text. All the Lorem Ipsum generators on the Internet tend to repeat predefined chunks as necessary, making this the first true generator on the Internet. It uses a dictionary of over 200 Latin words, combined with a handful of model sentence structures, to generate Lorem Ipsum which looks reasonable. The generated Lorem Ipsum is therefore always free from repetition, injected humour, or non-characteristic words etc.\n"
     ]
    }
   ],
   "source": [
    "with open('dummyText.txt', 'r') as myfile:\n",
    "    txtData=myfile.read().replace('\\n', '')\n",
    "print(txtData)"
   ]
  },
  {
   "cell_type": "markdown",
   "metadata": {},
   "source": [
    "Now we can run a query with it. We still have our query we wrote before."
   ]
  },
  {
   "cell_type": "code",
   "execution_count": 7,
   "metadata": {},
   "outputs": [
    {
     "name": "stdout",
     "output_type": "stream",
     "text": [
      "----------------------------------------\n",
      "Result:\n",
      " {\n",
      "  \"data\": {\n",
      "    \"metrics\": {\n",
      "      \"analytics\": {\n",
      "        \"words\": 518,\n",
      "        \"sentences\": 25,\n",
      "        \"sentWordCounts\": [\n",
      "          4,\n",
      "          12,\n",
      "          33,\n",
      "          17,\n",
      "          31,\n",
      "          5,\n",
      "          24,\n",
      "          31,\n",
      "          32,\n",
      "          18,\n",
      "          5,\n",
      "          11,\n",
      "          19,\n",
      "          41,\n",
      "          26,\n",
      "          15,\n",
      "          18,\n",
      "          17,\n",
      "          31,\n",
      "          5,\n",
      "          32,\n",
      "          27,\n",
      "          24,\n",
      "          24,\n",
      "          16\n",
      "        ],\n",
      "        \"averageSentWordCount\": 20.72\n",
      "      },\n",
      "      \"querytime\": 109,\n",
      "      \"message\": \"\",\n",
      "      \"timestamp\": \"2019-01-02T01:56:44.732293Z\"\n",
      "    }\n",
      "  }\n",
      "}\n",
      "----------------------------------------\n"
     ]
    }
   ],
   "source": [
    "txtResult = tap.analyse_text(query, txtData)\n",
    "print(\"-\" * 40)\n",
    "print(\"Result:\\n\", json.dumps(txtResult, indent=2))\n",
    "print(\"-\" * 40)"
   ]
  },
  {
   "cell_type": "markdown",
   "metadata": {},
   "source": [
    "### querying a docx file\n",
    "First let's import some handy modules to make working with docx files easier."
   ]
  },
  {
   "cell_type": "code",
   "execution_count": 8,
   "metadata": {},
   "outputs": [
    {
     "name": "stdout",
     "output_type": "stream",
     "text": [
      "Collecting python-docx\n",
      "\u001b[?25l  Downloading https://files.pythonhosted.org/packages/00/ed/dc8d859eb32980ccf0e5a9b1ab3311415baf55de208777d85826a7fb0b65/python-docx-0.8.7.tar.gz (5.4MB)\n",
      "\u001b[K    100% |████████████████████████████████| 5.4MB 2.8MB/s eta 0:00:01    15% |█████▏                          | 870kB 7.4MB/s eta 0:00:01    64% |████████████████████▊           | 3.5MB 10.4MB/s eta 0:00:01    99% |████████████████████████████████| 5.4MB 12.0MB/s eta 0:00:01\n",
      "\u001b[?25hCollecting lxml>=2.3.2 (from python-docx)\n",
      "\u001b[?25l  Downloading https://files.pythonhosted.org/packages/03/a4/9eea8035fc7c7670e5eab97f34ff2ef0ddd78a491bf96df5accedb0e63f5/lxml-4.2.5-cp36-cp36m-manylinux1_x86_64.whl (5.8MB)\n",
      "\u001b[K    100% |████████████████████████████████| 5.8MB 2.4MB/s eta 0:00:01   8% |██▋                             | 471kB 11.7MB/s eta 0:00:01    19% |██████▏                         | 1.1MB 12.9MB/s eta 0:00:01    61% |███████████████████▉            | 3.6MB 6.5MB/s eta 0:00:01    75% |████████████████████████        | 4.4MB 10.8MB/s eta 0:00:01\n",
      "\u001b[?25hBuilding wheels for collected packages: python-docx\n",
      "  Running setup.py bdist_wheel for python-docx ... \u001b[?25ldone\n",
      "\u001b[?25h  Stored in directory: /home/jovyan/.cache/pip/wheels/c2/c7/a7/4cb54d79bf82f9bb4be1780647700f7ec311f0f98a7a017c17\n",
      "Successfully built python-docx\n",
      "Installing collected packages: lxml, python-docx\n",
      "Successfully installed lxml-4.2.5 python-docx-0.8.7\n"
     ]
    }
   ],
   "source": [
    "!pip install python-docx\n",
    "from docx import Document"
   ]
  },
  {
   "cell_type": "markdown",
   "metadata": {},
   "source": [
    "The process is essentially the same a txt file, just the way we read the file is different.\n",
    "\n",
    "First we open the file, Convert it to a document, Then we loop the paragraphs and add the text to a string.\n",
    "\n",
    "finally we can print the entire document as one string.\n",
    "\n",
    "Now we can run a query on it."
   ]
  },
  {
   "cell_type": "code",
   "execution_count": 9,
   "metadata": {},
   "outputs": [
    {
     "name": "stdout",
     "output_type": "stream",
     "text": [
      "What is Lorem Ipsum?Lorem Ipsum is simply dummy text of the printing and typesetting industry. Lorem Ipsum has been the industry's standard dummy text ever since the 1500s, when an unknown printer took a galley of type and scrambled it to make a type specimen book. It has survived not only five centuries, but also the leap into electronic typesetting, remaining essentially unchanged. It was popularised in the 1960s with the release of Letraset sheets containing Lorem Ipsum passages, and more recently with desktop publishing software like Aldus PageMaker including versions of Lorem Ipsum.Why do we use it?It is a long established fact that a reader will be distracted by the readable content of a page when looking at its layout. The point of using Lorem Ipsum is that it has a more-or-less normal distribution of letters, as opposed to using 'Content here, content here', making it look like readable English. Many desktop publishing packages and web page editors now use Lorem Ipsum as their default model text, and a search for 'lorem ipsum' will uncover many web sites still in their infancy. Various versions have evolved over the years, sometimes by accident, sometimes on purpose (injected humour and the like).Where does it come from?Contrary to popular belief, Lorem Ipsum is not simply random text. It has roots in a piece of classical Latin literature from 45 BC, making it over 2000 years old. Richard McClintock, a Latin professor at Hampden-Sydney College in Virginia, looked up one of the more obscure Latin words, consectetur, from a Lorem Ipsum passage, and going through the cites of the word in classical literature, discovered the undoubtable source. Lorem Ipsum comes from sections 1.10.32 and 1.10.33 of \"de Finibus Bonorum et Malorum\" (The Extremes of Good and Evil) by Cicero, written in 45 BC. This book is a treatise on the theory of ethics, very popular during the Renaissance. The first line of Lorem Ipsum, \"Lorem ipsum dolor sit amet..\", comes from a line in section 1.10.32.The standard chunk of Lorem Ipsum used since the 1500s is reproduced below for those interested. Sections 1.10.32 and 1.10.33 from \"de Finibus Bonorum et Malorum\" by Cicero are also reproduced in their exact original form, accompanied by English versions from the 1914 translation by H. Rackham.Where can I get some?There are many variations of passages of Lorem Ipsum available, but the majority have suffered alteration in some form, by injected humour, or randomised words which don't look even slightly believable. If you are going to use a passage of Lorem Ipsum, you need to be sure there isn't anything embarrassing hidden in the middle of text. All the Lorem Ipsum generators on the Internet tend to repeat predefined chunks as necessary, making this the first true generator on the Internet. It uses a dictionary of over 200 Latin words, combined with a handful of model sentence structures, to generate Lorem Ipsum which looks reasonable. The generated Lorem Ipsum is therefore always free from repetition, injected humour, or non-characteristic words etc.\n"
     ]
    }
   ],
   "source": [
    "f = open('dummyText.docx', 'rb')\n",
    "document = Document(f)\n",
    "docData = \"\"\n",
    "for p in document.paragraphs:\n",
    "    docData += p.text\n",
    "\n",
    "print(docData)\n",
    "f.close()"
   ]
  },
  {
   "cell_type": "code",
   "execution_count": 10,
   "metadata": {},
   "outputs": [
    {
     "name": "stdout",
     "output_type": "stream",
     "text": [
      "----------------------------------------\n",
      "Result:\n",
      " {\n",
      "  \"data\": {\n",
      "    \"metrics\": {\n",
      "      \"analytics\": {\n",
      "        \"words\": 518,\n",
      "        \"sentences\": 25,\n",
      "        \"sentWordCounts\": [\n",
      "          4,\n",
      "          12,\n",
      "          33,\n",
      "          17,\n",
      "          31,\n",
      "          5,\n",
      "          24,\n",
      "          31,\n",
      "          32,\n",
      "          18,\n",
      "          5,\n",
      "          11,\n",
      "          19,\n",
      "          41,\n",
      "          26,\n",
      "          15,\n",
      "          18,\n",
      "          17,\n",
      "          31,\n",
      "          5,\n",
      "          32,\n",
      "          27,\n",
      "          24,\n",
      "          24,\n",
      "          16\n",
      "        ],\n",
      "        \"averageSentWordCount\": 20.72\n",
      "      },\n",
      "      \"querytime\": 60,\n",
      "      \"message\": \"\",\n",
      "      \"timestamp\": \"2019-01-02T01:56:51.054561Z\"\n",
      "    }\n",
      "  }\n",
      "}\n",
      "----------------------------------------\n"
     ]
    }
   ],
   "source": [
    "docResults = tap.analyse_text(query, docData)\n",
    "print(\"-\" * 40)\n",
    "print(\"Result:\\n\", json.dumps(docResults, indent=2))\n",
    "print(\"-\" * 40)"
   ]
  },
  {
   "cell_type": "markdown",
   "metadata": {},
   "source": [
    "### Querying a pdf file\n",
    "Now let's see if we can run data on a pdf file.\n",
    "\n",
    "First lets import a handy package to handle this for us."
   ]
  },
  {
   "cell_type": "code",
   "execution_count": 11,
   "metadata": {},
   "outputs": [
    {
     "name": "stdout",
     "output_type": "stream",
     "text": [
      "Collecting tika\n",
      "  Downloading https://files.pythonhosted.org/packages/10/75/b566e446ffcf292f10c8d84c15a3d91615fe3d7ca8072a17c949d4e84b66/tika-1.19.tar.gz\n",
      "Requirement already satisfied: setuptools in /opt/conda/lib/python3.6/site-packages (from tika) (40.6.3)\n",
      "Requirement already satisfied: requests in /opt/conda/lib/python3.6/site-packages (from tika) (2.21.0)\n",
      "Requirement already satisfied: urllib3<1.25,>=1.21.1 in /opt/conda/lib/python3.6/site-packages (from requests->tika) (1.24.1)\n",
      "Requirement already satisfied: certifi>=2017.4.17 in /opt/conda/lib/python3.6/site-packages (from requests->tika) (2018.11.29)\n",
      "Requirement already satisfied: idna<2.9,>=2.5 in /opt/conda/lib/python3.6/site-packages (from requests->tika) (2.8)\n",
      "Requirement already satisfied: chardet<3.1.0,>=3.0.2 in /opt/conda/lib/python3.6/site-packages (from requests->tika) (3.0.4)\n",
      "Building wheels for collected packages: tika\n",
      "  Running setup.py bdist_wheel for tika ... \u001b[?25ldone\n",
      "\u001b[?25h  Stored in directory: /home/jovyan/.cache/pip/wheels/b4/db/8a/3a3f0c0725448eaa92703e3dda71e29dc13a119ff6c1036848\n",
      "Successfully built tika\n",
      "Installing collected packages: tika\n",
      "Successfully installed tika-1.19\n"
     ]
    }
   ],
   "source": [
    "!pip install tika\n",
    "from tika import parser"
   ]
  },
  {
   "cell_type": "markdown",
   "metadata": {},
   "source": [
    "tika is a super easy module that works with python 3 and windows and allows us to read pdf files.\n",
    "\n",
    "First we parse our pdf file from the document then we print the raw contents and remove any extra lines."
   ]
  },
  {
   "cell_type": "code",
   "execution_count": 12,
   "metadata": {},
   "outputs": [
    {
     "name": "stderr",
     "output_type": "stream",
     "text": [
      "2019-01-02 01:56:54,757 [MainThread  ] [INFO ]  Retrieving http://search.maven.org/remotecontent?filepath=org/apache/tika/tika-server/1.19/tika-server-1.19.jar to /tmp/tika-server.jar.\n",
      "2019-01-02 01:57:05,999 [MainThread  ] [INFO ]  Retrieving http://search.maven.org/remotecontent?filepath=org/apache/tika/tika-server/1.19/tika-server-1.19.jar.md5 to /tmp/tika-server.jar.md5.\n",
      "2019-01-02 01:57:06,895 [MainThread  ] [WARNI]  Failed to see startup log message; retrying...\n"
     ]
    },
    {
     "name": "stdout",
     "output_type": "stream",
     "text": [
      "What is Lorem Ipsum? Lorem Ipsum is simply dummy text of the printing and typesetting industry. Lorem Ipsum has been the industry's standard dummy text ever since the 1500s, when an unknown printer took a galley of type and scrambled it to make a type specimen book. It has survived not only five centuries, but also the leap into electronic typesetting, remaining essentially unchanged. It was popularised in the 1960s with the release of Letraset sheets containing Lorem Ipsum passages, and more recently with desktop publishing software like Aldus PageMaker including versions of Lorem Ipsum. Why do we use it? It is a long established fact that a reader will be distracted by the readable content of a page when looking at its layout. The point of using Lorem Ipsum is that it has a more-or-less normal distribution of letters, as opposed to using 'Content here, content here', making it look like readable English. Many desktop publishing packages and web page editors now use Lorem Ipsum as their default model text, and a search for 'lorem ipsum' will uncover many web sites still in their infancy. Various versions have evolved over the years, sometimes by accident, sometimes on purpose (injected humour and the like).  Where does it come from? Contrary to popular belief, Lorem Ipsum is not simply random text. It has roots in a piece of classical Latin literature from 45 BC, making it over 2000 years old. Richard McClintock, a Latin professor at Hampden-Sydney College in Virginia, looked up one of the more obscure Latin words, consectetur, from a Lorem Ipsum passage, and going through the cites of the word in classical literature, discovered the undoubtable source. Lorem Ipsum comes from sections 1.10.32 and 1.10.33 of \"de Finibus Bonorum et Malorum\" (The Extremes of Good and Evil) by Cicero, written in 45 BC. This book is a treatise on the theory of ethics, very popular during the Renaissance. The first line of Lorem Ipsum, \"Lorem ipsum dolor sit amet..\", comes from a line in section 1.10.32. The standard chunk of Lorem Ipsum used since the 1500s is reproduced below for those interested. Sections 1.10.32 and 1.10.33 from \"de Finibus Bonorum et Malorum\" by Cicero are also reproduced in their exact original form, accompanied by English versions from the 1914 translation by H. Rackham. Where can I get some? There are many variations of passages of Lorem Ipsum available, but the majority have suffered alteration in some form, by injected humour, or randomised words which don't look even slightly believable. If you are going to use a passage of Lorem Ipsum, you need to be sure there isn't anything embarrassing hidden in the middle of text. All the Lorem Ipsum generators on the Internet tend to repeat predefined chunks as necessary, making this the first true generator on the Internet. It uses a dictionary of over 200 Latin words, combined with a handful of model sentence structures, to generate Lorem Ipsum which looks reasonable. The generated Lorem Ipsum is therefore always free from repetition, injected humour, or non-characteristic words etc.  \tWhat is Lorem Ipsum?\tWhy do we use it?\tWhere does it come from?\tWhere can I get some?\n"
     ]
    }
   ],
   "source": [
    "raw = parser.from_file('dummyText.pdf')\n",
    "pdfContent = raw['content'].replace('\\n', '')\n",
    "print(pdfContent)"
   ]
  },
  {
   "cell_type": "markdown",
   "metadata": {},
   "source": [
    "Lastly we can run the same query again."
   ]
  },
  {
   "cell_type": "code",
   "execution_count": 13,
   "metadata": {},
   "outputs": [
    {
     "name": "stdout",
     "output_type": "stream",
     "text": [
      "----------------------------------------\n",
      "Result:\n",
      " {\n",
      "  \"data\": {\n",
      "    \"metrics\": {\n",
      "      \"analytics\": {\n",
      "        \"words\": 537,\n",
      "        \"sentences\": 29,\n",
      "        \"sentWordCounts\": [\n",
      "          4,\n",
      "          12,\n",
      "          33,\n",
      "          17,\n",
      "          31,\n",
      "          5,\n",
      "          24,\n",
      "          31,\n",
      "          32,\n",
      "          18,\n",
      "          5,\n",
      "          11,\n",
      "          19,\n",
      "          41,\n",
      "          26,\n",
      "          15,\n",
      "          18,\n",
      "          17,\n",
      "          31,\n",
      "          5,\n",
      "          32,\n",
      "          27,\n",
      "          24,\n",
      "          24,\n",
      "          16,\n",
      "          4,\n",
      "          5,\n",
      "          5,\n",
      "          5\n",
      "        ],\n",
      "        \"averageSentWordCount\": 18.517241379310345\n",
      "      },\n",
      "      \"querytime\": 72,\n",
      "      \"message\": \"\",\n",
      "      \"timestamp\": \"2019-01-02T01:57:23.530922Z\"\n",
      "    }\n",
      "  }\n",
      "}\n",
      "----------------------------------------\n"
     ]
    }
   ],
   "source": [
    "pdfResult = tap.analyse_text(query, pdfContent)\n",
    "print(\"-\" * 40)\n",
    "print(\"Result:\\n\", json.dumps(pdfResult, indent=2))\n",
    "print(\"-\" * 40)"
   ]
  },
  {
   "cell_type": "markdown",
   "metadata": {},
   "source": [
    "### Summary\n",
    "Great, So as you can see you can run queries on almost any type of text you wish!\n",
    "\n",
    "If you have any specific needs or want to see anything added be sure to let us know!\n",
    "\n",
    "Lastly let's print out all the results."
   ]
  },
  {
   "cell_type": "code",
   "execution_count": 14,
   "metadata": {},
   "outputs": [
    {
     "name": "stdout",
     "output_type": "stream",
     "text": [
      "----------------------------------------\n",
      "STR Result:\n",
      " {\n",
      "  \"data\": {\n",
      "    \"metrics\": {\n",
      "      \"analytics\": {\n",
      "        \"words\": 21,\n",
      "        \"sentences\": 3,\n",
      "        \"sentWordCounts\": [\n",
      "          8,\n",
      "          9,\n",
      "          4\n",
      "        ],\n",
      "        \"averageSentWordCount\": 7\n",
      "      },\n",
      "      \"querytime\": 22,\n",
      "      \"message\": \"\",\n",
      "      \"timestamp\": \"2019-01-02T01:56:44.559394Z\"\n",
      "    }\n",
      "  }\n",
      "}\n",
      "----------------------------------------\n",
      "TXT Result:\n",
      " {\n",
      "  \"data\": {\n",
      "    \"metrics\": {\n",
      "      \"analytics\": {\n",
      "        \"words\": 518,\n",
      "        \"sentences\": 25,\n",
      "        \"sentWordCounts\": [\n",
      "          4,\n",
      "          12,\n",
      "          33,\n",
      "          17,\n",
      "          31,\n",
      "          5,\n",
      "          24,\n",
      "          31,\n",
      "          32,\n",
      "          18,\n",
      "          5,\n",
      "          11,\n",
      "          19,\n",
      "          41,\n",
      "          26,\n",
      "          15,\n",
      "          18,\n",
      "          17,\n",
      "          31,\n",
      "          5,\n",
      "          32,\n",
      "          27,\n",
      "          24,\n",
      "          24,\n",
      "          16\n",
      "        ],\n",
      "        \"averageSentWordCount\": 20.72\n",
      "      },\n",
      "      \"querytime\": 109,\n",
      "      \"message\": \"\",\n",
      "      \"timestamp\": \"2019-01-02T01:56:44.732293Z\"\n",
      "    }\n",
      "  }\n",
      "}\n",
      "----------------------------------------\n",
      "Docx Results:\n",
      " {\n",
      "  \"data\": {\n",
      "    \"metrics\": {\n",
      "      \"analytics\": {\n",
      "        \"words\": 518,\n",
      "        \"sentences\": 25,\n",
      "        \"sentWordCounts\": [\n",
      "          4,\n",
      "          12,\n",
      "          33,\n",
      "          17,\n",
      "          31,\n",
      "          5,\n",
      "          24,\n",
      "          31,\n",
      "          32,\n",
      "          18,\n",
      "          5,\n",
      "          11,\n",
      "          19,\n",
      "          41,\n",
      "          26,\n",
      "          15,\n",
      "          18,\n",
      "          17,\n",
      "          31,\n",
      "          5,\n",
      "          32,\n",
      "          27,\n",
      "          24,\n",
      "          24,\n",
      "          16\n",
      "        ],\n",
      "        \"averageSentWordCount\": 20.72\n",
      "      },\n",
      "      \"querytime\": 60,\n",
      "      \"message\": \"\",\n",
      "      \"timestamp\": \"2019-01-02T01:56:51.054561Z\"\n",
      "    }\n",
      "  }\n",
      "}\n",
      "----------------------------------------\n",
      "PDF Results:\n",
      " {\n",
      "  \"data\": {\n",
      "    \"metrics\": {\n",
      "      \"analytics\": {\n",
      "        \"words\": 537,\n",
      "        \"sentences\": 29,\n",
      "        \"sentWordCounts\": [\n",
      "          4,\n",
      "          12,\n",
      "          33,\n",
      "          17,\n",
      "          31,\n",
      "          5,\n",
      "          24,\n",
      "          31,\n",
      "          32,\n",
      "          18,\n",
      "          5,\n",
      "          11,\n",
      "          19,\n",
      "          41,\n",
      "          26,\n",
      "          15,\n",
      "          18,\n",
      "          17,\n",
      "          31,\n",
      "          5,\n",
      "          32,\n",
      "          27,\n",
      "          24,\n",
      "          24,\n",
      "          16,\n",
      "          4,\n",
      "          5,\n",
      "          5,\n",
      "          5\n",
      "        ],\n",
      "        \"averageSentWordCount\": 18.517241379310345\n",
      "      },\n",
      "      \"querytime\": 72,\n",
      "      \"message\": \"\",\n",
      "      \"timestamp\": \"2019-01-02T01:57:23.530922Z\"\n",
      "    }\n",
      "  }\n",
      "}\n",
      "----------------------------------------\n"
     ]
    }
   ],
   "source": [
    "print(\"-\" * 40)\n",
    "print(\"STR Result:\\n\", json.dumps(strResult, indent=2))\n",
    "print(\"-\" * 40)\n",
    "print(\"TXT Result:\\n\", json.dumps(txtResult, indent=2))\n",
    "print(\"-\" * 40)\n",
    "print(\"Docx Results:\\n\", json.dumps(docResults, indent=2))\n",
    "print(\"-\" * 40)\n",
    "print(\"PDF Results:\\n\", json.dumps(pdfResult, indent=2))\n",
    "print(\"-\" * 40)"
   ]
  },
  {
   "cell_type": "code",
   "execution_count": null,
   "metadata": {},
   "outputs": [],
   "source": []
  },
  {
   "cell_type": "code",
   "execution_count": null,
   "metadata": {},
   "outputs": [],
   "source": []
  },
  {
   "cell_type": "code",
   "execution_count": null,
   "metadata": {},
   "outputs": [],
   "source": []
  },
  {
   "cell_type": "code",
   "execution_count": null,
   "metadata": {},
   "outputs": [],
   "source": []
  },
  {
   "cell_type": "code",
   "execution_count": null,
   "metadata": {},
   "outputs": [],
   "source": []
  },
  {
   "cell_type": "code",
   "execution_count": null,
   "metadata": {},
   "outputs": [],
   "source": []
  },
  {
   "cell_type": "code",
   "execution_count": null,
   "metadata": {},
   "outputs": [],
   "source": []
  },
  {
   "cell_type": "code",
   "execution_count": null,
   "metadata": {},
   "outputs": [],
   "source": []
  },
  {
   "cell_type": "code",
   "execution_count": null,
   "metadata": {},
   "outputs": [],
   "source": []
  },
  {
   "cell_type": "code",
   "execution_count": null,
   "metadata": {},
   "outputs": [],
   "source": []
  },
  {
   "cell_type": "code",
   "execution_count": null,
   "metadata": {},
   "outputs": [],
   "source": []
  },
  {
   "cell_type": "code",
   "execution_count": null,
   "metadata": {},
   "outputs": [],
   "source": []
  },
  {
   "cell_type": "code",
   "execution_count": null,
   "metadata": {},
   "outputs": [],
   "source": []
  },
  {
   "cell_type": "code",
   "execution_count": null,
   "metadata": {},
   "outputs": [],
   "source": []
  },
  {
   "cell_type": "code",
   "execution_count": null,
   "metadata": {},
   "outputs": [],
   "source": []
  },
  {
   "cell_type": "code",
   "execution_count": null,
   "metadata": {},
   "outputs": [],
   "source": []
  },
  {
   "cell_type": "code",
   "execution_count": null,
   "metadata": {},
   "outputs": [],
   "source": []
  },
  {
   "cell_type": "code",
   "execution_count": null,
   "metadata": {},
   "outputs": [],
   "source": []
  },
  {
   "cell_type": "code",
   "execution_count": null,
   "metadata": {},
   "outputs": [],
   "source": []
  },
  {
   "cell_type": "code",
   "execution_count": null,
   "metadata": {},
   "outputs": [],
   "source": []
  },
  {
   "cell_type": "code",
   "execution_count": null,
   "metadata": {},
   "outputs": [],
   "source": []
  },
  {
   "cell_type": "code",
   "execution_count": null,
   "metadata": {},
   "outputs": [],
   "source": []
  },
  {
   "cell_type": "code",
   "execution_count": null,
   "metadata": {},
   "outputs": [],
   "source": []
  },
  {
   "cell_type": "code",
   "execution_count": null,
   "metadata": {},
   "outputs": [],
   "source": []
  },
  {
   "cell_type": "code",
   "execution_count": null,
   "metadata": {},
   "outputs": [],
   "source": []
  },
  {
   "cell_type": "code",
   "execution_count": null,
   "metadata": {},
   "outputs": [],
   "source": []
  },
  {
   "cell_type": "code",
   "execution_count": null,
   "metadata": {},
   "outputs": [],
   "source": []
  },
  {
   "cell_type": "code",
   "execution_count": null,
   "metadata": {},
   "outputs": [],
   "source": []
  },
  {
   "cell_type": "code",
   "execution_count": null,
   "metadata": {},
   "outputs": [],
   "source": []
  },
  {
   "cell_type": "code",
   "execution_count": null,
   "metadata": {},
   "outputs": [],
   "source": []
  },
  {
   "cell_type": "code",
   "execution_count": null,
   "metadata": {},
   "outputs": [],
   "source": []
  },
  {
   "cell_type": "code",
   "execution_count": null,
   "metadata": {},
   "outputs": [],
   "source": []
  },
  {
   "cell_type": "code",
   "execution_count": null,
   "metadata": {},
   "outputs": [],
   "source": []
  },
  {
   "cell_type": "code",
   "execution_count": null,
   "metadata": {},
   "outputs": [],
   "source": []
  },
  {
   "cell_type": "code",
   "execution_count": null,
   "metadata": {},
   "outputs": [],
   "source": []
  },
  {
   "cell_type": "code",
   "execution_count": null,
   "metadata": {},
   "outputs": [],
   "source": []
  },
  {
   "cell_type": "code",
   "execution_count": null,
   "metadata": {},
   "outputs": [],
   "source": []
  },
  {
   "cell_type": "code",
   "execution_count": null,
   "metadata": {},
   "outputs": [],
   "source": []
  },
  {
   "cell_type": "code",
   "execution_count": null,
   "metadata": {},
   "outputs": [],
   "source": []
  },
  {
   "cell_type": "code",
   "execution_count": null,
   "metadata": {},
   "outputs": [],
   "source": []
  },
  {
   "cell_type": "code",
   "execution_count": null,
   "metadata": {},
   "outputs": [],
   "source": []
  },
  {
   "cell_type": "code",
   "execution_count": null,
   "metadata": {},
   "outputs": [],
   "source": []
  },
  {
   "cell_type": "code",
   "execution_count": null,
   "metadata": {},
   "outputs": [],
   "source": []
  },
  {
   "cell_type": "code",
   "execution_count": null,
   "metadata": {},
   "outputs": [],
   "source": []
  },
  {
   "cell_type": "code",
   "execution_count": null,
   "metadata": {},
   "outputs": [],
   "source": []
  },
  {
   "cell_type": "code",
   "execution_count": null,
   "metadata": {},
   "outputs": [],
   "source": []
  },
  {
   "cell_type": "code",
   "execution_count": null,
   "metadata": {},
   "outputs": [],
   "source": []
  },
  {
   "cell_type": "code",
   "execution_count": null,
   "metadata": {},
   "outputs": [],
   "source": []
  },
  {
   "cell_type": "code",
   "execution_count": null,
   "metadata": {},
   "outputs": [],
   "source": []
  },
  {
   "cell_type": "code",
   "execution_count": null,
   "metadata": {},
   "outputs": [],
   "source": []
  },
  {
   "cell_type": "code",
   "execution_count": null,
   "metadata": {},
   "outputs": [],
   "source": []
  },
  {
   "cell_type": "code",
   "execution_count": null,
   "metadata": {},
   "outputs": [],
   "source": []
  },
  {
   "cell_type": "code",
   "execution_count": null,
   "metadata": {},
   "outputs": [],
   "source": []
  },
  {
   "cell_type": "code",
   "execution_count": null,
   "metadata": {},
   "outputs": [],
   "source": []
  },
  {
   "cell_type": "code",
   "execution_count": null,
   "metadata": {},
   "outputs": [],
   "source": []
  },
  {
   "cell_type": "code",
   "execution_count": null,
   "metadata": {},
   "outputs": [],
   "source": []
  },
  {
   "cell_type": "code",
   "execution_count": null,
   "metadata": {},
   "outputs": [],
   "source": [
    "\n"
   ]
  },
  {
   "cell_type": "code",
   "execution_count": null,
   "metadata": {},
   "outputs": [],
   "source": []
  },
  {
   "cell_type": "code",
   "execution_count": null,
   "metadata": {},
   "outputs": [],
   "source": []
  },
  {
   "cell_type": "code",
   "execution_count": null,
   "metadata": {},
   "outputs": [],
   "source": [
    "\n",
    "\n",
    "\n",
    "\n",
    "\n"
   ]
  },
  {
   "cell_type": "code",
   "execution_count": null,
   "metadata": {},
   "outputs": [],
   "source": []
  },
  {
   "cell_type": "code",
   "execution_count": null,
   "metadata": {},
   "outputs": [],
   "source": []
  },
  {
   "cell_type": "code",
   "execution_count": null,
   "metadata": {},
   "outputs": [],
   "source": []
  },
  {
   "cell_type": "code",
   "execution_count": null,
   "metadata": {},
   "outputs": [],
   "source": []
  },
  {
   "cell_type": "code",
   "execution_count": null,
   "metadata": {},
   "outputs": [],
   "source": []
  },
  {
   "cell_type": "code",
   "execution_count": null,
   "metadata": {},
   "outputs": [],
   "source": []
  },
  {
   "cell_type": "code",
   "execution_count": null,
   "metadata": {},
   "outputs": [],
   "source": []
  },
  {
   "cell_type": "code",
   "execution_count": null,
   "metadata": {},
   "outputs": [],
   "source": []
  },
  {
   "cell_type": "code",
   "execution_count": null,
   "metadata": {},
   "outputs": [],
   "source": []
  },
  {
   "cell_type": "code",
   "execution_count": null,
   "metadata": {},
   "outputs": [],
   "source": []
  },
  {
   "cell_type": "code",
   "execution_count": null,
   "metadata": {},
   "outputs": [],
   "source": []
  },
  {
   "cell_type": "code",
   "execution_count": null,
   "metadata": {},
   "outputs": [],
   "source": []
  },
  {
   "cell_type": "code",
   "execution_count": null,
   "metadata": {},
   "outputs": [],
   "source": []
  },
  {
   "cell_type": "code",
   "execution_count": null,
   "metadata": {},
   "outputs": [],
   "source": []
  },
  {
   "cell_type": "code",
   "execution_count": null,
   "metadata": {},
   "outputs": [],
   "source": [
    "\n"
   ]
  },
  {
   "cell_type": "code",
   "execution_count": null,
   "metadata": {},
   "outputs": [],
   "source": []
  },
  {
   "cell_type": "code",
   "execution_count": null,
   "metadata": {},
   "outputs": [],
   "source": []
  },
  {
   "cell_type": "code",
   "execution_count": null,
   "metadata": {},
   "outputs": [],
   "source": []
  },
  {
   "cell_type": "code",
   "execution_count": null,
   "metadata": {},
   "outputs": [],
   "source": []
  },
  {
   "cell_type": "code",
   "execution_count": null,
   "metadata": {},
   "outputs": [],
   "source": []
  },
  {
   "cell_type": "code",
   "execution_count": null,
   "metadata": {},
   "outputs": [],
   "source": []
  },
  {
   "cell_type": "code",
   "execution_count": null,
   "metadata": {},
   "outputs": [],
   "source": []
  },
  {
   "cell_type": "code",
   "execution_count": null,
   "metadata": {},
   "outputs": [],
   "source": []
  },
  {
   "cell_type": "code",
   "execution_count": null,
   "metadata": {},
   "outputs": [],
   "source": []
  },
  {
   "cell_type": "code",
   "execution_count": null,
   "metadata": {},
   "outputs": [],
   "source": []
  },
  {
   "cell_type": "code",
   "execution_count": null,
   "metadata": {},
   "outputs": [],
   "source": []
  },
  {
   "cell_type": "code",
   "execution_count": null,
   "metadata": {},
   "outputs": [],
   "source": []
  },
  {
   "cell_type": "code",
   "execution_count": null,
   "metadata": {},
   "outputs": [],
   "source": []
  },
  {
   "cell_type": "code",
   "execution_count": null,
   "metadata": {},
   "outputs": [],
   "source": []
  },
  {
   "cell_type": "code",
   "execution_count": null,
   "metadata": {
    "scrolled": true
   },
   "outputs": [],
   "source": []
  },
  {
   "cell_type": "code",
   "execution_count": null,
   "metadata": {},
   "outputs": [],
   "source": []
  },
  {
   "cell_type": "code",
   "execution_count": null,
   "metadata": {},
   "outputs": [],
   "source": []
  },
  {
   "cell_type": "code",
   "execution_count": null,
   "metadata": {},
   "outputs": [],
   "source": []
  },
  {
   "cell_type": "code",
   "execution_count": null,
   "metadata": {},
   "outputs": [],
   "source": []
  },
  {
   "cell_type": "code",
   "execution_count": null,
   "metadata": {},
   "outputs": [],
   "source": []
  },
  {
   "cell_type": "code",
   "execution_count": null,
   "metadata": {},
   "outputs": [],
   "source": []
  },
  {
   "cell_type": "code",
   "execution_count": null,
   "metadata": {},
   "outputs": [],
   "source": []
  },
  {
   "cell_type": "code",
   "execution_count": null,
   "metadata": {},
   "outputs": [],
   "source": []
  },
  {
   "cell_type": "code",
   "execution_count": null,
   "metadata": {},
   "outputs": [],
   "source": []
  },
  {
   "cell_type": "code",
   "execution_count": null,
   "metadata": {},
   "outputs": [],
   "source": []
  },
  {
   "cell_type": "code",
   "execution_count": null,
   "metadata": {},
   "outputs": [],
   "source": []
  },
  {
   "cell_type": "code",
   "execution_count": null,
   "metadata": {},
   "outputs": [],
   "source": []
  },
  {
   "cell_type": "code",
   "execution_count": null,
   "metadata": {},
   "outputs": [],
   "source": []
  },
  {
   "cell_type": "code",
   "execution_count": null,
   "metadata": {},
   "outputs": [],
   "source": []
  },
  {
   "cell_type": "code",
   "execution_count": null,
   "metadata": {},
   "outputs": [],
   "source": []
  },
  {
   "cell_type": "code",
   "execution_count": null,
   "metadata": {},
   "outputs": [],
   "source": []
  },
  {
   "cell_type": "code",
   "execution_count": null,
   "metadata": {},
   "outputs": [],
   "source": []
  },
  {
   "cell_type": "code",
   "execution_count": null,
   "metadata": {},
   "outputs": [],
   "source": []
  },
  {
   "cell_type": "code",
   "execution_count": null,
   "metadata": {},
   "outputs": [],
   "source": []
  }
 ],
 "metadata": {
  "kernelspec": {
   "display_name": "Python 3",
   "language": "python",
   "name": "python3"
  },
  "language_info": {
   "codemirror_mode": {
    "name": "ipython",
    "version": 3
   },
   "file_extension": ".py",
   "mimetype": "text/x-python",
   "name": "python",
   "nbconvert_exporter": "python",
   "pygments_lexer": "ipython3",
   "version": "3.6.7"
  }
 },
 "nbformat": 4,
 "nbformat_minor": 2
}
