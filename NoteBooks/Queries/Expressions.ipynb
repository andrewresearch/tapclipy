{
 "cells": [
  {
   "cell_type": "markdown",
   "metadata": {},
   "source": [
    "# Prerequisite Setup\n",
    "First ensure you have TAP running and the IP of the instance of TAP.\n",
    "\n",
    "Also ensure you have fetched the schema."
   ]
  },
  {
   "cell_type": "code",
   "execution_count": 2,
   "metadata": {},
   "outputs": [
    {
     "name": "stdout",
     "output_type": "stream",
     "text": [
      "Requirement already satisfied: tapclipy>=0.1.8 in /opt/conda/lib/python3.6/site-packages (0.1.8)\n",
      "http://tap.hi2lab.io/graphql\n"
     ]
    }
   ],
   "source": [
    "!pip install 'tapclipy>=0.1.8'\n",
    "from tapclipy import tap_connect\n",
    "import json\n",
    "\n",
    "# Create TAP Connection\n",
    "tap = tap_connect.Connect('http://tap.hi2lab.io')\n",
    "tap.fetch_schema()\n",
    "print(tap.url())"
   ]
  },
  {
   "cell_type": "markdown",
   "metadata": {},
   "source": [
    "## Expressions\n",
    "\n",
    "Expressions ia a query that will extract the epistemic expressions of a sentence and list each sentence in it's own array.\n",
    "\n",
    "### Example:"
   ]
  },
  {
   "cell_type": "code",
   "execution_count": 5,
   "metadata": {},
   "outputs": [
    {
     "name": "stdout",
     "output_type": "stream",
     "text": [
      "----------------------------------------\n",
      "Expressions:\n",
      "----------------------------------------\n",
      "\n",
      "\n",
      "Input Text:\n",
      "\n",
      " This is the first great happy blue angry cold sentence. This is the second fantastic happy sentence.\n",
      "\n",
      "\n",
      "Affect Text:\n",
      " \n",
      "Sentence 1: first, great, happy, blue, angry\n",
      "Sentence 2: fantastic, happy\n",
      "\n",
      "\n",
      "Raw Result:\n",
      "\n",
      " {\n",
      "  \"data\": {\n",
      "    \"expressions\": {\n",
      "      \"analytics\": [\n",
      "        {\n",
      "          \"sentIdx\": 0,\n",
      "          \"affect\": [\n",
      "            {\n",
      "              \"text\": \"first\"\n",
      "            },\n",
      "            {\n",
      "              \"text\": \"great\"\n",
      "            },\n",
      "            {\n",
      "              \"text\": \"happy\"\n",
      "            },\n",
      "            {\n",
      "              \"text\": \"blue\"\n",
      "            },\n",
      "            {\n",
      "              \"text\": \"angry\"\n",
      "            }\n",
      "          ],\n",
      "          \"epistemic\": [],\n",
      "          \"modal\": []\n",
      "        },\n",
      "        {\n",
      "          \"sentIdx\": 1,\n",
      "          \"affect\": [\n",
      "            {\n",
      "              \"text\": \"fantastic\"\n",
      "            },\n",
      "            {\n",
      "              \"text\": \"happy\"\n",
      "            }\n",
      "          ],\n",
      "          \"epistemic\": [],\n",
      "          \"modal\": []\n",
      "        }\n",
      "      ]\n",
      "    }\n",
      "  }\n",
      "}\n"
     ]
    }
   ],
   "source": [
    "# Set our query type to expressions\n",
    "query = tap.query('expressions')\n",
    "\n",
    "# no params needed\n",
    "\n",
    "# pass in some test data\n",
    "string = \"This is the first great happy blue angry cold sentence. This is the second fantastic happy sentence.\"\n",
    "\n",
    "# query the api\n",
    "strResult = tap.analyse_text(query, string)\n",
    "\n",
    "sentences = []\n",
    "for sentence in strResult['data']['expressions']['analytics']:\n",
    "    affectSentence = []\n",
    "    for affect in sentence['affect']:\n",
    "        affectSentence.append(affect['text'])\n",
    "    sentences.append(affectSentence)\n",
    "\n",
    "outputString = \"\"\n",
    "for i in range(len(sentences)):\n",
    "    outputString += \"\\nSentence {0}: {1}\".format(i + 1,\", \".join(sentences[i]))\n",
    "\n",
    "\n",
    "\n",
    "# Print Result\n",
    "print(\"-\" * 40)\n",
    "print(\"Expressions:\")\n",
    "print(\"-\" * 40)\n",
    "\n",
    "print(\"\\n\")\n",
    "print(\"Input Text:\\n\\n\", string)\n",
    "\n",
    "print(\"\\n\")\n",
    "print(\"Affect Text:\\n\", outputString)\n",
    "\n",
    "print(\"\\n\")\n",
    "print(\"Raw Result:\\n\\n\", json.dumps(strResult, indent=2))"
   ]
  },
  {
   "cell_type": "code",
   "execution_count": null,
   "metadata": {},
   "outputs": [],
   "source": []
  }
 ],
 "metadata": {
  "kernelspec": {
   "display_name": "Python 3",
   "language": "python",
   "name": "python3"
  },
  "language_info": {
   "codemirror_mode": {
    "name": "ipython",
    "version": 3
   },
   "file_extension": ".py",
   "mimetype": "text/x-python",
   "name": "python",
   "nbconvert_exporter": "python",
   "pygments_lexer": "ipython3",
   "version": "3.6.7"
  }
 },
 "nbformat": 4,
 "nbformat_minor": 2
}
