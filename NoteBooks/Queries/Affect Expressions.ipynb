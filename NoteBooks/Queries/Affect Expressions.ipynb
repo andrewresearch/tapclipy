{
 "cells": [
  {
   "cell_type": "markdown",
   "metadata": {},
   "source": [
    "# Prerequisite Setup\n",
    "First ensure you have TAP running and the IP of the instance of TAP.\n",
    "\n",
    "Also ensure you have fetched the schema."
   ]
  },
  {
   "cell_type": "code",
   "execution_count": 1,
   "metadata": {},
   "outputs": [
    {
     "name": "stdout",
     "output_type": "stream",
     "text": [
      "Requirement already satisfied: tapclipy>=0.1.8 in /opt/conda/lib/python3.6/site-packages (0.1.8)\n",
      "http://192.168.99.102:9000/graphql\n"
     ]
    }
   ],
   "source": [
    "!pip install 'tapclipy>=0.1.8'\n",
    "from tapclipy import tap_connect\n",
    "import json\n",
    "\n",
    "# Create TAP Connection\n",
    "tap = tap_connect.Connect('http://192.168.99.102:9000')\n",
    "tap.fetch_schema()\n",
    "print(tap.url())"
   ]
  },
  {
   "cell_type": "markdown",
   "metadata": {},
   "source": [
    "## Affect Expressions\n",
    "\n",
    "Affect Expressions is a query that will return stats about the valence, arousal and dominance language used.\n",
    "\n",
    "You are able to pass in the thresholds at which each of them will trigger.\n",
    "\n",
    "### Example:"
   ]
  },
  {
   "cell_type": "code",
   "execution_count": null,
   "metadata": {
    "collapsed": true
   },
   "outputs": [
    {
     "name": "stdout",
     "output_type": "stream",
     "text": [
      "----------------------------------------\n",
      "Affect Expressions:\n",
      "----------------------------------------\n",
      "Input Text:\n",
      "\n",
      " This is the first great happy blue angry cold sentence I know. This is the second fantastic sentence.\n",
      "\n",
      "\n",
      "Results:\n",
      "\n",
      " \n",
      "first:\n",
      " Valence: 7.33\n",
      " Arousal: 4.9\n",
      " Dominance: 6.38\n",
      "\n",
      "great:\n",
      " Valence: 7.5\n",
      " Arousal: 4.14\n",
      " Dominance: 6.65\n",
      "\n",
      "happy:\n",
      " Valence: 8.47\n",
      " Arousal: 6.05\n",
      " Dominance: 7.21\n",
      "\n",
      "fantastic:\n",
      " Valence: 8.36\n",
      " Arousal: 6.4\n",
      " Dominance: 7.21\n",
      "\n",
      "\n",
      "\n",
      "Raw Result:\n",
      "\n",
      " {\n",
      "  \"data\": {\n",
      "    \"affectExpressions\": {\n",
      "      \"querytime\": 55,\n",
      "      \"message\": \"\",\n",
      "      \"timestamp\": \"2019-01-08T06:04:47.008025Z\",\n",
      "      \"analytics\": [\n",
      "        {\n",
      "          \"affect\": [\n",
      "            {\n",
      "              \"text\": \"first\",\n",
      "              \"valence\": 7.33,\n",
      "              \"arousal\": 4.9,\n",
      "              \"dominance\": 6.38,\n",
      "              \"startIdx\": 3\n",
      "            },\n",
      "            {\n",
      "              \"text\": \"great\",\n",
      "              \"valence\": 7.5,\n",
      "              \"arousal\": 4.14,\n",
      "              \"dominance\": 6.65,\n",
      "              \"startIdx\": 4\n",
      "            },\n",
      "            {\n",
      "              \"text\": \"happy\",\n",
      "              \"valence\": 8.47,\n",
      "              \"arousal\": 6.05,\n",
      "              \"dominance\": 7.21,\n",
      "              \"startIdx\": 5\n",
      "            }\n",
      "          ]\n",
      "        },\n",
      "        {\n",
      "          \"affect\": [\n",
      "            {\n",
      "              \"text\": \"fantastic\",\n",
      "              \"valence\": 8.36,\n",
      "              \"arousal\": 6.4,\n",
      "              \"dominance\": 7.21,\n",
      "              \"startIdx\": 4\n",
      "            }\n",
      "          ]\n",
      "        }\n",
      "      ]\n",
      "    }\n",
      "  }\n",
      "}\n"
     ]
    }
   ],
   "source": [
    "# Set our query type to affectExpressions\n",
    "query = tap.query('affectExpressions')\n",
    "\n",
    "# Set our thresholds in a parameter\n",
    "params = '''\n",
    "{\n",
    "    \"valence\":4,\n",
    "    \"arousal\":4,\n",
    "    \"dominance\":4\n",
    "}\n",
    "'''\n",
    "\n",
    "# pass in some test data\n",
    "string = \"This is the first great happy blue angry cold sentence I know. This is the second fantastic sentence.\"\n",
    "\n",
    "# query the api\n",
    "strResult = tap.analyse_text(query, string, params)\n",
    "\n",
    "analytics = strResult['data']['affectExpressions']['analytics']\n",
    "\n",
    "output = \"\"\n",
    "\n",
    "for sentence in analytics:\n",
    "    for affect in sentence['affect']:\n",
    "        output += \"\\n{0}:\\n Valence: {1}\\n Arousal: {2}\\n Dominance: {3}\\n\".format(affect['text'], affect['valence'], affect['arousal'], affect['dominance'])\n",
    "\n",
    "# Print Result\n",
    "print(\"-\" * 40)\n",
    "print(\"Affect Expressions:\")\n",
    "print(\"-\" * 40)\n",
    "print(\"Input Text:\\n\\n\", string)\n",
    "\n",
    "print(\"\\n\")\n",
    "print(\"Results:\\n\\n\", output)\n",
    "\n",
    "print(\"\\n\")\n",
    "print(\"Raw Result:\\n\\n\", json.dumps(strResult, indent=2))"
   ]
  },
  {
   "cell_type": "code",
   "execution_count": null,
   "metadata": {},
   "outputs": [],
   "source": []
  }
 ],
 "metadata": {
  "kernelspec": {
   "display_name": "Python 3",
   "language": "python",
   "name": "python3"
  },
  "language_info": {
   "codemirror_mode": {
    "name": "ipython",
    "version": 3
   },
   "file_extension": ".py",
   "mimetype": "text/x-python",
   "name": "python",
   "nbconvert_exporter": "python",
   "pygments_lexer": "ipython3",
   "version": "3.6.7"
  }
 },
 "nbformat": 4,
 "nbformat_minor": 2
}
