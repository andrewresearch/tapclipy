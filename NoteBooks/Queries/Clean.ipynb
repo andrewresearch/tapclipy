{
 "cells": [
  {
   "cell_type": "markdown",
   "metadata": {},
   "source": [
    "# Prerequisite Setup\n",
    "First ensure you have TAP running and the IP of the instance of TAP.\n",
    "\n",
    "Also ensure you have fetched the schema.\n"
   ]
  },
  {
   "cell_type": "code",
   "execution_count": 1,
   "metadata": {},
   "outputs": [
    {
     "name": "stdout",
     "output_type": "stream",
     "text": [
      "Requirement already satisfied: tapclipy>=0.1.8 in /opt/conda/lib/python3.6/site-packages (0.1.8)\n",
      "http://tap.hi2lab.io/graphql\n"
     ]
    }
   ],
   "source": [
    "!pip install 'tapclipy>=0.1.8'\n",
    "from tapclipy import tap_connect\n",
    "import json\n",
    "\n",
    "# Create TAP Connection\n",
    "tap = tap_connect.Connect('http://tap.hi2lab.io')\n",
    "tap.fetch_schema()\n",
    "print(tap.url())"
   ]
  },
  {
   "cell_type": "markdown",
   "metadata": {},
   "source": [
    "# Clean\n",
    "\n",
    "Clean is a query that will clean and format the text depending on which parameters you pass.\n",
    "There are 5 current parameters you can pass.\n",
    "\n",
    "- visible = Replaces all white spaces with dots and new lines with line feeds.\n",
    "- minimal = Removes all extra white spaces and extra new lines, leaving only one of each.\n",
    "- simple = Removes all extra white spaces and extra new lines, leaving only one of each. It will also replace hypens and quotes with their ascii safe equivalents.\n",
    "- preserve = This will replace spaces with dots and preserve the length of the text.\n",
    "- ascii = This will replace all non ascii characters eg any char above 127\n",
    "\n",
    "See below for examples and descriptions."
   ]
  },
  {
   "cell_type": "markdown",
   "metadata": {},
   "source": [
    "## Visible\n",
    "Replaces all white spaces with dots and new lines with line feeds.\n",
    "\n",
    "### Example:"
   ]
  },
  {
   "cell_type": "code",
   "execution_count": 8,
   "metadata": {},
   "outputs": [
    {
     "name": "stdout",
     "output_type": "stream",
     "text": [
      "----------------------------------------\n",
      "Visible Clean:\n",
      "----------------------------------------\n",
      "Input Text: \n",
      "\n",
      " This will replace spaces with dots and \n",
      " newlines with line feeds\n",
      "\n",
      "\n",
      "Result: \n",
      "\n",
      " This·will·replace·spaces·with·dots·and·¬·newlines·with·line·feeds\n"
     ]
    }
   ],
   "source": [
    "# Set our query type to clean\n",
    "query = tap.query('clean')\n",
    "\n",
    "# Set our parameter to visible\n",
    "params = '''{ \"cleanType\":\"visible\" }'''\n",
    "\n",
    "# pass in some test data\n",
    "string = \"This will replace spaces with dots and \\n newlines with line feeds\"\n",
    "\n",
    "# query the api\n",
    "strResult = tap.analyse_text(query, string, params)\n",
    "\n",
    "# Print Result\n",
    "print(\"-\" * 40)\n",
    "print(\"Visible Clean:\")\n",
    "print(\"-\" * 40)\n",
    "print(\"Input Text: \\n\\n\", string)\n",
    "print(\"\\n\")\n",
    "print(\"Result: \\n\\n\", strResult[\"data\"][\"clean\"][\"analytics\"])"
   ]
  },
  {
   "cell_type": "markdown",
   "metadata": {},
   "source": [
    "## Minimal\n",
    "Removes all extra white spaces and extra new lines, leaving only one of each.\n",
    "\n",
    "#### Example:"
   ]
  },
  {
   "cell_type": "code",
   "execution_count": 10,
   "metadata": {},
   "outputs": [
    {
     "name": "stdout",
     "output_type": "stream",
     "text": [
      "----------------------------------------\n",
      "Minimal Clean:\n",
      "----------------------------------------\n",
      "Input Text: \n",
      "\n",
      " This will remove extra      spaces and \n",
      " \n",
      " \n",
      " extra new lines\n",
      "\n",
      "\n",
      "Result: \n",
      "\n",
      " This will remove extra spaces and\n",
      "extra new lines\n"
     ]
    }
   ],
   "source": [
    "# Set our query type to clean\n",
    "query = tap.query('clean')\n",
    "\n",
    "# Set our parameter to minimal\n",
    "params = '''{ \"cleanType\":\"minimal\" }'''\n",
    "\n",
    "# pass in some test data\n",
    "string = \"This will remove extra      spaces and \\n \\n \\n extra new lines\"\n",
    "\n",
    "# query the api\n",
    "strResult = tap.analyse_text(query, string, params)\n",
    "\n",
    "# Print Result\n",
    "print(\"-\" * 40)\n",
    "print(\"Minimal Clean:\")\n",
    "print(\"-\" * 40)\n",
    "print(\"Input Text: \\n\\n\", string)\n",
    "print(\"\\n\")\n",
    "print(\"Result: \\n\\n\", strResult[\"data\"][\"clean\"][\"analytics\"])"
   ]
  },
  {
   "cell_type": "markdown",
   "metadata": {},
   "source": [
    "## Simple\n",
    "Removes all extra white spaces and extra new lines, leaving only one of each.\n",
    "It will also replace hypens and quotes with their ascii safe equivalents.\n",
    "\n",
    "#### Example:"
   ]
  },
  {
   "cell_type": "code",
   "execution_count": 15,
   "metadata": {},
   "outputs": [
    {
     "name": "stdout",
     "output_type": "stream",
     "text": [
      "----------------------------------------\n",
      "Simple Clean:\n",
      "----------------------------------------\n",
      "Input Text:\n",
      "\n",
      " This will remove extra      spaces and \n",
      " \n",
      " \n",
      " extra new lines and replace “ with \" \n",
      "\n",
      "\n",
      "Result:\n",
      "\n",
      " This will remove extra spaces and\n",
      "extra new lines and replace \" with \" \n"
     ]
    }
   ],
   "source": [
    "# Set our query type to clean\n",
    "query = tap.query('clean')\n",
    "\n",
    "# Set our parameter to simple\n",
    "params = '''{ \"cleanType\":\"simple\" }'''\n",
    "\n",
    "# pass in some test data\n",
    "string = \"This will remove extra      spaces and \\n \\n \\n extra new lines and replace “ with \\\" \"\n",
    "\n",
    "# query the api\n",
    "strResult = tap.analyse_text(query, string, params)\n",
    "\n",
    "# Print Result\n",
    "print(\"-\" * 40)\n",
    "print(\"Simple Clean:\")\n",
    "print(\"-\" * 40)\n",
    "print(\"Input Text:\\n\\n\", string)\n",
    "print(\"\\n\")\n",
    "print(\"Result:\\n\\n\", strResult[\"data\"][\"clean\"][\"analytics\"])"
   ]
  },
  {
   "cell_type": "markdown",
   "metadata": {},
   "source": [
    "## Preserve\n",
    "This will replace spaces with dots and preserve the length of the text.\n",
    "\n",
    "#### Example:"
   ]
  },
  {
   "cell_type": "code",
   "execution_count": 20,
   "metadata": {},
   "outputs": [
    {
     "name": "stdout",
     "output_type": "stream",
     "text": [
      "----------------------------------------\n",
      "Preserve Clean:\n",
      "----------------------------------------\n",
      "Input Text:\n",
      "\n",
      " This will replace tabs, non breaking spaces and new lines \n",
      " \n",
      " with standard spaces and linefeeds.\n",
      "\n",
      "\n",
      "Result:\n",
      "\n",
      " This will replace tabs, non breaking spaces and new lines \n",
      " \n",
      " with standard spaces and linefeeds.\n"
     ]
    }
   ],
   "source": [
    "# Set our query type to clean\n",
    "query = tap.query('clean')\n",
    "\n",
    "# Set our parameter to preserve\n",
    "params = '''{ \"cleanType\":\"preserve\" }'''\n",
    "\n",
    "# pass in some test data\n",
    "string = \"This will replace tabs, non breaking spaces and new lines \\n \\n with standard spaces and linefeeds.\"\n",
    "\n",
    "# query the api\n",
    "strResult = tap.analyse_text(query, string, params)\n",
    "\n",
    "# Print Result\n",
    "print(\"-\" * 40)\n",
    "print(\"Preserve Clean:\")\n",
    "print(\"-\" * 40)\n",
    "print(\"Input Text:\\n\\n\", string)\n",
    "print(\"\\n\")\n",
    "print(\"Result:\\n\\n\", strResult[\"data\"][\"clean\"][\"analytics\"])"
   ]
  },
  {
   "cell_type": "markdown",
   "metadata": {},
   "source": [
    "## Ascii\n",
    "This will replace all non ascii characters eg any char above 127\n",
    "\n",
    "#### Example:"
   ]
  },
  {
   "cell_type": "code",
   "execution_count": 22,
   "metadata": {},
   "outputs": [
    {
     "name": "stdout",
     "output_type": "stream",
     "text": [
      "----------------------------------------\n",
      "Ascii Clean:\n",
      "----------------------------------------\n",
      "Input Text:\n",
      "\n",
      " This ¡ will ¢ replace £ any ¤ non ascii characters\n",
      "\n",
      "\n",
      "Result:\n",
      "\n",
      " This  will  replace  any  non ascii characters\n"
     ]
    }
   ],
   "source": [
    "# Set our query type to clean\n",
    "query = tap.query('clean')\n",
    "\n",
    "# Set our parameter to ascii\n",
    "params = '''{ \"cleanType\":\"ascii\" }'''\n",
    "\n",
    "# pass in some test data\n",
    "string = \"This ¡ will ¢ replace £ any ¤ non ascii characters\"\n",
    "\n",
    "# query the api\n",
    "strResult = tap.analyse_text(query, string, params)\n",
    "\n",
    "# Print Result\n",
    "print(\"-\" * 40)\n",
    "print(\"Ascii Clean:\")\n",
    "print(\"-\" * 40)\n",
    "print(\"Input Text:\\n\\n\", string)\n",
    "print(\"\\n\")\n",
    "print(\"Result:\\n\\n\", strResult[\"data\"][\"clean\"][\"analytics\"])"
   ]
  },
  {
   "cell_type": "code",
   "execution_count": null,
   "metadata": {},
   "outputs": [],
   "source": []
  }
 ],
 "metadata": {
  "kernelspec": {
   "display_name": "Python 3",
   "language": "python",
   "name": "python3"
  },
  "language_info": {
   "codemirror_mode": {
    "name": "ipython",
    "version": 3
   },
   "file_extension": ".py",
   "mimetype": "text/x-python",
   "name": "python",
   "nbconvert_exporter": "python",
   "pygments_lexer": "ipython3",
   "version": "3.6.7"
  }
 },
 "nbformat": 4,
 "nbformat_minor": 2
}
