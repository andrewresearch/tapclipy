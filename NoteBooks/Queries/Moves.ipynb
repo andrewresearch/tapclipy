{
 "cells": [
  {
   "cell_type": "markdown",
   "metadata": {},
   "source": [
    "# Prerequisite Setup\n",
    "First ensure you have TAP running and the IP of the instance of TAP.\n",
    "\n",
    "Also ensure you have fetched the schema."
   ]
  },
  {
   "cell_type": "code",
   "execution_count": 2,
   "metadata": {},
   "outputs": [
    {
     "name": "stderr",
     "output_type": "stream",
     "text": [
      "'pip' is not recognized as an internal or external command,\n",
      "operable program or batch file.\n"
     ]
    },
    {
     "name": "stdout",
     "output_type": "stream",
     "text": [
      "http://localhost:9000/graphql\n"
     ]
    }
   ],
   "source": [
    "!pip install 'tapclipy>=0.2.2'\n",
    "from tapclipy import tap_connect\n",
    "import json\n",
    "\n",
    "# Create TAP Connection\n",
    "tap = tap_connect.Connect('http://tap.hi2lab.io')\n",
    "tap.fetch_schema()\n",
    "print(tap.url())"
   ]
  },
  {
   "cell_type": "markdown",
   "metadata": {},
   "source": [
    "## Moves\n",
    "\n",
    "Rhetorical moves is a query that will asses the rhetorical moves used in the analyzed text.\n",
    "\n",
    "Note: You will need to ensure you have an athanor server running.\n",
    "\n",
    "### Example"
   ]
  },
  {
   "cell_type": "code",
   "execution_count": 6,
   "metadata": {},
   "outputs": [
    {
     "name": "stdout",
     "output_type": "stream",
     "text": [
      "Raw Result:\n",
      "\n",
      " {\n",
      "  \"data\": {\n",
      "    \"moves\": {\n",
      "      \"querytime\": 214,\n",
      "      \"message\": \"ok\",\n",
      "      \"timestamp\": \"2019-02-25T11:06:52.394+10:00\",\n",
      "      \"analytics\": [\n",
      "        [\n",
      "          \"SubjectTemporality\",\n",
      "          \"SubjectAnalysis\",\n",
      "          \"temporality\"\n",
      "        ],\n",
      "        [\n",
      "          \"temporality\",\n",
      "          \"change4\",\n",
      "          \"change\",\n",
      "          \"StanceAnalysis\",\n",
      "          \"selfchange1\",\n",
      "          \"SubjectAnalysis\",\n",
      "          \"link2me\",\n",
      "          \"context1\",\n",
      "          \"futuretemp\",\n",
      "          \"SubjectStance\"\n",
      "        ]\n",
      "      ]\n",
      "    }\n",
      "  }\n",
      "}\n"
     ]
    }
   ],
   "source": [
    "# Set our query type to moves\n",
    "query = tap.query('moves')\n",
    "\n",
    "# Set our parameter to reflective\n",
    "params = '''{ \"grammar\":\"reflective\" }'''\n",
    "\n",
    "# pass in some test data\n",
    "string = \"I have found this process extremely challenging. I hope that the future is more enjoyable and relaxing.\"\n",
    "\n",
    "# query the api\n",
    "strResult = tap.analyse_text(query, string, params)\n",
    "\n",
    "print(\"Raw Result:\\n\\n\",json.dumps(strResult, indent=2))"
   ]
  },
  {
   "cell_type": "code",
   "execution_count": null,
   "metadata": {},
   "outputs": [],
   "source": []
  }
 ],
 "metadata": {
  "kernelspec": {
   "display_name": "Python 3",
   "language": "python",
   "name": "python3"
  },
  "language_info": {
   "codemirror_mode": {
    "name": "ipython",
    "version": 3
   },
   "file_extension": ".py",
   "mimetype": "text/x-python",
   "name": "python",
   "nbconvert_exporter": "python",
   "pygments_lexer": "ipython3",
   "version": "3.7.0"
  }
 },
 "nbformat": 4,
 "nbformat_minor": 2
}
