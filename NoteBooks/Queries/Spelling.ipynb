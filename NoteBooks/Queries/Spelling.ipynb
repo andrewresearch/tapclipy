{
 "cells": [
  {
   "cell_type": "markdown",
   "metadata": {},
   "source": [
    "# Prerequisite Setup\n",
    "First ensure you have TAP running and the IP of the instance of TAP.\n",
    "\n",
    "Also ensure you have fetched the schema.\n",
    "\n",
    "**Currently not functioning as intended**"
   ]
  },
  {
   "cell_type": "code",
   "execution_count": 3,
   "metadata": {},
   "outputs": [
    {
     "name": "stdout",
     "output_type": "stream",
     "text": [
      "Requirement already satisfied: tapclipy>=0.1.8 in /opt/conda/lib/python3.6/site-packages (0.1.8)\n",
      "QUERY: {\"query\": \"\\n    { __schema { queryType { name ...subtypes } } }\\n    fragment subtypes on __Type { fields {\\n        name\\n        type {\\n          ofType {\\n            name\\n          }\\n         fields {\\n        name\\n        type {\\n          ofType {\\n            name\\n          }\\n         fields {\\n        name\\n        type {\\n          ofType {\\n            name\\n          }\\n         fields {\\n        name\\n        type {\\n          ofType {\\n            name\\n          }\\n         fields {\\n        name\\n        type {\\n          ofType {\\n            name\\n          }\\n         fields {\\n        name\\n        type {\\n          ofType {\\n            name\\n          }\\n         fields {\\n          name\\n        }}}}}}}}}}}}}}\\n\"}\n",
      "ERROR <urlopen error [Errno -5] No address associated with hostname>\n",
      "http://tap.hi2lab.io/graphql\n"
     ]
    }
   ],
   "source": [
    "!pip install 'tapclipy>=0.1.8'\n",
    "from tapclipy import tap_connect\n",
    "import json\n",
    "\n",
    "# Create TAP Connection\n",
    "tap = tap_connect.Connect('http://tap.hi2lab.io')\n",
    "tap.fetch_schema()\n",
    "print(tap.url())"
   ]
  },
  {
   "cell_type": "markdown",
   "metadata": {},
   "source": [
    "## Spelling\n",
    "\n",
    "Spelling is a query that will return the spelling mistakes and possible suggestions for what the intended word was.\n",
    "\n",
    "### Example:"
   ]
  },
  {
   "cell_type": "code",
   "execution_count": 2,
   "metadata": {},
   "outputs": [
    {
     "name": "stdout",
     "output_type": "stream",
     "text": [
      "----------------------------------------\n",
      "Spelling:\n",
      "----------------------------------------\n",
      "Input Text:\n",
      "\n",
      " Th is the frst graet hpapy blue anrgy cold sentence. This is the second fantastic sentence.\n",
      "\n",
      "\n",
      "Raw Result:\n",
      "\n",
      "\n",
      "{\n",
      "  \"data\": {\n",
      "    \"spelling\": {\n",
      "      \"timestamp\": \"2019-01-08T01:55:53.300894Z\",\n",
      "      \"message\": \"\",\n",
      "      \"querytime\": 6,\n",
      "      \"analytics\": [\n",
      "        {\n",
      "          \"sentIdx\": 0,\n",
      "          \"spelling\": []\n",
      "        },\n",
      "        {\n",
      "          \"sentIdx\": 1,\n",
      "          \"spelling\": []\n",
      "        }\n",
      "      ]\n",
      "    }\n",
      "  }\n",
      "}\n"
     ]
    }
   ],
   "source": [
    "# Set our query type to Spelling\n",
    "query = tap.query('spelling')\n",
    "\n",
    "# no params needed\n",
    "\n",
    "# pass in some test data\n",
    "string = \"Th is the frst graet hpapy blue anrgy cold sentence. This is the second fantastic sentence.\"\n",
    "\n",
    "# query the api\n",
    "strResult = tap.analyse_text(query, string)\n",
    "\n",
    "# Print Result\n",
    "print(\"-\" * 40)\n",
    "print(\"Spelling:\")\n",
    "print(\"-\" * 40)\n",
    "print(\"Input Text:\\n\\n\", string)\n",
    "print(\"\\n\")\n",
    "print(\"Raw Result:\\n\\n\")\n",
    "print(json.dumps(strResult, indent=2))"
   ]
  },
  {
   "cell_type": "code",
   "execution_count": null,
   "metadata": {},
   "outputs": [],
   "source": []
  }
 ],
 "metadata": {
  "kernelspec": {
   "display_name": "Python 3",
   "language": "python",
   "name": "python3"
  },
  "language_info": {
   "codemirror_mode": {
    "name": "ipython",
    "version": 3
   },
   "file_extension": ".py",
   "mimetype": "text/x-python",
   "name": "python",
   "nbconvert_exporter": "python",
   "pygments_lexer": "ipython3",
   "version": "3.6.7"
  }
 },
 "nbformat": 4,
 "nbformat_minor": 2
}
