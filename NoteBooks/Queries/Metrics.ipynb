{
 "cells": [
  {
   "cell_type": "markdown",
   "metadata": {},
   "source": [
    "# Prerequisite Setup\n",
    "First ensure you have TAP running and the IP of the instance of TAP.\n",
    "\n",
    "Also ensure you have fetched the schema."
   ]
  },
  {
   "cell_type": "code",
   "execution_count": 1,
   "metadata": {},
   "outputs": [
    {
     "name": "stdout",
     "output_type": "stream",
     "text": [
      "Requirement already satisfied: tapclipy>=0.1.8 in /opt/conda/lib/python3.6/site-packages (0.1.8)\n",
      "http://192.168.99.102:9000/graphql\n"
     ]
    }
   ],
   "source": [
    "!pip install 'tapclipy>=0.1.8'\n",
    "from tapclipy import tap_connect\n",
    "import json\n",
    "\n",
    "# Create TAP Connection\n",
    "tap = tap_connect.Connect('http://tap.hi2lab.io')\n",
    "tap.fetch_schema()\n",
    "print(tap.url())"
   ]
  },
  {
   "cell_type": "markdown",
   "metadata": {},
   "source": [
    "## Metrics\n",
    "\n",
    "Metrics is a query that will return various stats on the text that was parsed.\n",
    "Metrics such as:\n",
    "\n",
    "- word count\n",
    "- sentence count\n",
    "- average word counts\n",
    "- array of sentences and word counts per sentence\n",
    "\n",
    "\n",
    "### Example:"
   ]
  },
  {
   "cell_type": "code",
   "execution_count": 2,
   "metadata": {},
   "outputs": [
    {
     "name": "stdout",
     "output_type": "stream",
     "text": [
      "----------------------------------------\n",
      "Metrics:\n",
      "----------------------------------------\n",
      "Input Text:\n",
      "\n",
      " This is the first great happy blue angry cold sentence. This is the second fantastic sentence.\n",
      "\n",
      "\n",
      "Total Word Count:\n",
      "\n",
      " 16\n",
      "\n",
      "\n",
      "Sentence Count:\n",
      "\n",
      " 2\n",
      "\n",
      "\n",
      "Word Count Per Sentence:\n",
      "\n",
      " [10, 6]\n",
      "\n",
      "\n",
      "Average Word Count:\n",
      "\n",
      " 8\n",
      "\n",
      "\n",
      "Raw Result:\n",
      "\n",
      " {\n",
      "  \"data\": {\n",
      "    \"metrics\": {\n",
      "      \"analytics\": {\n",
      "        \"words\": 16,\n",
      "        \"sentences\": 2,\n",
      "        \"sentWordCounts\": [\n",
      "          10,\n",
      "          6\n",
      "        ],\n",
      "        \"averageSentWordCount\": 8\n",
      "      },\n",
      "      \"querytime\": 14,\n",
      "      \"message\": \"\",\n",
      "      \"timestamp\": \"2019-01-08T03:36:00.261054Z\"\n",
      "    }\n",
      "  }\n",
      "}\n"
     ]
    }
   ],
   "source": [
    "# Set our query type to Metrics\n",
    "query = tap.query('metrics')\n",
    "\n",
    "# no params needed\n",
    "\n",
    "# pass in some test data\n",
    "string = \"This is the first great happy blue angry cold sentence. This is the second fantastic sentence.\"\n",
    "\n",
    "# query the api\n",
    "strResult = tap.analyse_text(query, string)\n",
    "\n",
    "analytics = strResult['data']['metrics']['analytics']\n",
    "\n",
    "# Print Result\n",
    "print(\"-\" * 40)\n",
    "print(\"Metrics:\")\n",
    "print(\"-\" * 40)\n",
    "\n",
    "print(\"Input Text:\\n\\n\", string)\n",
    "\n",
    "print(\"\\n\")\n",
    "print(\"Total Word Count:\\n\\n\", analytics['words'])\n",
    "\n",
    "print(\"\\n\")\n",
    "print(\"Sentence Count:\\n\\n\", analytics['sentences'])\n",
    "\n",
    "print(\"\\n\")\n",
    "print(\"Word Count Per Sentence:\\n\\n\", str(analytics['sentWordCounts']))\n",
    "\n",
    "print(\"\\n\")\n",
    "print(\"Average Word Count:\\n\\n\", analytics['averageSentWordCount'])\n",
    "\n",
    "\n",
    "print(\"\\n\")\n",
    "print(\"Raw Result:\\n\\n\",json.dumps(strResult, indent=2))"
   ]
  },
  {
   "cell_type": "code",
   "execution_count": null,
   "metadata": {},
   "outputs": [],
   "source": []
  }
 ],
 "metadata": {
  "kernelspec": {
   "display_name": "Python 3",
   "language": "python",
   "name": "python3"
  },
  "language_info": {
   "codemirror_mode": {
    "name": "ipython",
    "version": 3
   },
   "file_extension": ".py",
   "mimetype": "text/x-python",
   "name": "python",
   "nbconvert_exporter": "python",
   "pygments_lexer": "ipython3",
   "version": "3.6.7"
  }
 },
 "nbformat": 4,
 "nbformat_minor": 2
}
