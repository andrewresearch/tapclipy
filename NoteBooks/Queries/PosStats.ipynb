{
 "cells": [
  {
   "cell_type": "markdown",
   "metadata": {},
   "source": [
    "# Prerequisite Setup\n",
    "First ensure you have TAP running and the IP of the instance of TAP.\n",
    "\n",
    "Also ensure you have fetched the schema."
   ]
  },
  {
   "cell_type": "code",
   "execution_count": 1,
   "metadata": {},
   "outputs": [
    {
     "name": "stdout",
     "output_type": "stream",
     "text": [
      "Requirement already satisfied: tapclipy>=0.1.8 in /opt/conda/lib/python3.6/site-packages (0.1.8)\n",
      "http://192.168.99.102:9000/graphql\n"
     ]
    }
   ],
   "source": [
    "!pip install 'tapclipy>=0.1.8'\n",
    "from tapclipy import tap_connect\n",
    "import json\n",
    "\n",
    "# Create TAP Connection\n",
    "tap = tap_connect.Connect('http://tap.hi2lab.io')\n",
    "tap.fetch_schema()\n",
    "print(tap.url())"
   ]
  },
  {
   "cell_type": "markdown",
   "metadata": {},
   "source": [
    "## Pos Stats (Part Of Speech)\n",
    "\n",
    "Part of speech stats is a query that will return the verb, noun and adjective distribution ratios of the sentences.\n",
    "\n",
    "\n",
    "### Example:"
   ]
  },
  {
   "cell_type": "code",
   "execution_count": 3,
   "metadata": {},
   "outputs": [
    {
     "name": "stdout",
     "output_type": "stream",
     "text": [
      "----------------------------------------\n",
      "Pos Stats:\n",
      "----------------------------------------\n",
      "Input Text:\n",
      "\n",
      " This is the first great happy blue angry cold sentence. This is the second fantastic sentence.\n",
      "\n",
      "\n",
      "Verb Noun Ratio:\n",
      "\n",
      " 1\n",
      "\n",
      "\n",
      "Future Past Ratio:\n",
      "\n",
      " 0\n",
      "\n",
      "\n",
      "Adjective Word Ratio:\n",
      "\n",
      " 0.5\n",
      "\n",
      "\n",
      "Named Entity Word Ratio:\n",
      "\n",
      " 1.125\n",
      "\n",
      "\n",
      "Noun Distribution:\n",
      "\n",
      " [0.5, 0.5]\n",
      "\n",
      "\n",
      "Verb Distribution:\n",
      "\n",
      " [0.5, 0.5]\n",
      "\n",
      "\n",
      "Adjective Distribution:\n",
      "\n",
      " [0.75, 0.25]\n",
      "\n",
      "\n",
      "Raw Result:\n",
      "\n",
      " {\n",
      "  \"data\": {\n",
      "    \"posStats\": {\n",
      "      \"analytics\": {\n",
      "        \"verbNounRatio\": 1,\n",
      "        \"futurePastRatio\": 0,\n",
      "        \"adjectiveWordRatio\": 0.5,\n",
      "        \"namedEntityWordRatio\": 1.125,\n",
      "        \"nounDistribution\": [\n",
      "          0.5,\n",
      "          0.5\n",
      "        ],\n",
      "        \"verbDistribution\": [\n",
      "          0.5,\n",
      "          0.5\n",
      "        ],\n",
      "        \"adjectiveDistribution\": [\n",
      "          0.75,\n",
      "          0.25\n",
      "        ]\n",
      "      }\n",
      "    }\n",
      "  }\n",
      "}\n"
     ]
    }
   ],
   "source": [
    "# Set our query type to posStats\n",
    "query = tap.query('posStats')\n",
    "\n",
    "# no params needed\n",
    "\n",
    "# pass in some test data\n",
    "string = \"This is the first great happy blue angry cold sentence. This is the second fantastic sentence.\"\n",
    "\n",
    "# query the api\n",
    "strResult = tap.analyse_text(query, string)\n",
    "\n",
    "analytics = strResult['data']['posStats']['analytics']\n",
    "\n",
    "# Print Result\n",
    "print(\"-\" * 40)\n",
    "print(\"Pos Stats:\")\n",
    "print(\"-\" * 40)\n",
    "\n",
    "\n",
    "print(\"Input Text:\\n\\n\", string)\n",
    "\n",
    "print(\"\\n\")\n",
    "print(\"Verb Noun Ratio:\\n\\n\", analytics['verbNounRatio'])\n",
    "\n",
    "print(\"\\n\")\n",
    "print(\"Future Past Ratio:\\n\\n\", analytics['futurePastRatio'])\n",
    "\n",
    "print(\"\\n\")\n",
    "print(\"Adjective Word Ratio:\\n\\n\", analytics['adjectiveWordRatio'])\n",
    "\n",
    "print(\"\\n\")\n",
    "print(\"Named Entity Word Ratio:\\n\\n\", analytics['namedEntityWordRatio'])\n",
    "\n",
    "print(\"\\n\")\n",
    "print(\"Noun Distribution:\\n\\n\", str(analytics['nounDistribution']))\n",
    "\n",
    "print(\"\\n\")\n",
    "print(\"Verb Distribution:\\n\\n\", str(analytics['verbDistribution']))\n",
    "\n",
    "print(\"\\n\")\n",
    "print(\"Adjective Distribution:\\n\\n\", str(analytics['adjectiveDistribution']))\n",
    "\n",
    "\n",
    "print(\"\\n\")\n",
    "print(\"Raw Result:\\n\\n\", json.dumps(strResult, indent=2))"
   ]
  },
  {
   "cell_type": "code",
   "execution_count": null,
   "metadata": {},
   "outputs": [],
   "source": []
  }
 ],
 "metadata": {
  "kernelspec": {
   "display_name": "Python 3",
   "language": "python",
   "name": "python3"
  },
  "language_info": {
   "codemirror_mode": {
    "name": "ipython",
    "version": 3
   },
   "file_extension": ".py",
   "mimetype": "text/x-python",
   "name": "python",
   "nbconvert_exporter": "python",
   "pygments_lexer": "ipython3",
   "version": "3.6.7"
  }
 },
 "nbformat": 4,
 "nbformat_minor": 2
}
