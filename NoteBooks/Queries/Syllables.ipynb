{
 "cells": [
  {
   "cell_type": "markdown",
   "metadata": {},
   "source": [
    "# Prerequisite Setup\n",
    "First ensure you have TAP running and the IP of the instance of TAP.\n",
    "\n",
    "Also ensure you have fetched the schema."
   ]
  },
  {
   "cell_type": "code",
   "execution_count": 1,
   "metadata": {},
   "outputs": [
    {
     "name": "stdout",
     "output_type": "stream",
     "text": [
      "Requirement already satisfied: tapclipy>=0.1.8 in /opt/conda/lib/python3.6/site-packages (0.1.8)\n",
      "http://tap.hi2lab.io/graphql\n"
     ]
    }
   ],
   "source": [
    "!pip install 'tapclipy>=0.2.2'\n",
    "from tapclipy import tap_connect\n",
    "import json\n",
    "\n",
    "# Create TAP Connection\n",
    "tap = tap_connect.Connect('http://tap.hi2lab.io')\n",
    "tap.fetch_schema()\n",
    "print(tap.url())"
   ]
  },
  {
   "cell_type": "markdown",
   "metadata": {},
   "source": [
    "## Syllables\n",
    "\n",
    "Syllables is a query that will return the syllable count for each word in a sentence and group each sentence into it's own array.\n",
    "\n",
    "### Example:"
   ]
  },
  {
   "cell_type": "code",
   "execution_count": 3,
   "metadata": {},
   "outputs": [
    {
     "name": "stdout",
     "output_type": "stream",
     "text": [
      "----------------------------------------\n",
      "Syllables:\n",
      "----------------------------------------\n",
      "Input Text:\n",
      "\n",
      " This is the first great happy blue angry cold sentence. This is the second fantastic sentence.\n",
      "\n",
      "\n",
      "Syllables Result:\n",
      "\n",
      " Sentence 1: \n",
      "Average Syllables: 1.18\n",
      "Counts:[1, 1, 1, 1, 1, 2, 1, 2, 1, 2]\n",
      "\n",
      "Sentence 2: \n",
      "Average Syllables: 1.43\n",
      "Counts:[1, 1, 1, 2, 3, 2]\n",
      "\n",
      "\n",
      "\n",
      "\n",
      "Raw Result:\n",
      "\n",
      " {\n",
      "  \"data\": {\n",
      "    \"syllables\": {\n",
      "      \"analytics\": [\n",
      "        {\n",
      "          \"sentIdx\": 0,\n",
      "          \"avgSyllables\": 1.1818181818181819,\n",
      "          \"counts\": [\n",
      "            1,\n",
      "            1,\n",
      "            1,\n",
      "            1,\n",
      "            1,\n",
      "            2,\n",
      "            1,\n",
      "            2,\n",
      "            1,\n",
      "            2\n",
      "          ]\n",
      "        },\n",
      "        {\n",
      "          \"sentIdx\": 1,\n",
      "          \"avgSyllables\": 1.4285714285714286,\n",
      "          \"counts\": [\n",
      "            1,\n",
      "            1,\n",
      "            1,\n",
      "            2,\n",
      "            3,\n",
      "            2\n",
      "          ]\n",
      "        }\n",
      "      ],\n",
      "      \"timestamp\": \"2019-01-07T05:27:33.450154Z\"\n",
      "    }\n",
      "  }\n",
      "}\n"
     ]
    }
   ],
   "source": [
    "# Set our query type to syllables\n",
    "query = tap.query('syllables')\n",
    "\n",
    "# no params needed\n",
    "\n",
    "# pass in some test data\n",
    "string = \"This is the first great happy blue angry cold sentence. This is the second fantastic sentence.\"\n",
    "\n",
    "# query the api\n",
    "strResult = tap.analyse_text(query, string)\n",
    "\n",
    "averages = []\n",
    "counts = []\n",
    "\n",
    "for sentence in strResult['data']['syllables']['analytics']:\n",
    "    averages.append(sentence['avgSyllables'])\n",
    "    countHolder = []\n",
    "    for count in sentence['counts']:\n",
    "        countHolder.append(count)\n",
    "    counts.append(countHolder)\n",
    "\n",
    "outputString = \"\"\n",
    "for i in range(len(averages)):\n",
    "    outputString += \"Sentence {0}: \\nAverage Syllables: {1:.2f}\\nCounts:{2}\\n\\n\".format(i + 1,averages[i], str(counts[i]))\n",
    "\n",
    "\n",
    "\n",
    "# Print Result\n",
    "print(\"-\" * 40)\n",
    "print(\"Syllables:\")\n",
    "print(\"-\" * 40)\n",
    "\n",
    "\n",
    "print(\"Input Text:\\n\\n\", string)\n",
    "\n",
    "print(\"\\n\")\n",
    "print(\"Syllables Result:\\n\\n\", outputString)\n",
    "\n",
    "print(\"\\n\")\n",
    "print(\"Raw Result:\\n\\n\", json.dumps(strResult, indent=2))"
   ]
  },
  {
   "cell_type": "code",
   "execution_count": null,
   "metadata": {},
   "outputs": [],
   "source": []
  }
 ],
 "metadata": {
  "kernelspec": {
   "display_name": "Python 3",
   "language": "python",
   "name": "python3"
  },
  "language_info": {
   "codemirror_mode": {
    "name": "ipython",
    "version": 3
   },
   "file_extension": ".py",
   "mimetype": "text/x-python",
   "name": "python",
   "nbconvert_exporter": "python",
   "pygments_lexer": "ipython3",
   "version": "3.6.7"
  }
 },
 "nbformat": 4,
 "nbformat_minor": 2
}
